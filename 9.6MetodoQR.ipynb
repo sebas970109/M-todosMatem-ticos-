{
 "cells": [
  {
   "cell_type": "code",
   "execution_count": 14,
   "id": "24cbc47c-45c3-42df-bf5d-67ae75c51fdf",
   "metadata": {},
   "outputs": [
    {
     "name": "stdout",
     "output_type": "stream",
     "text": [
      "--- Calculando Eigenvalores con el Método QR (Versión Definitiva) ---\n",
      "\n",
      "Eigenvalores calculados:\n"
     ]
    },
    {
     "data": {
      "text/plain": [
       "4-element Vector{Float64}:\n",
       " 0.7316888815469216\n",
       " 2.556170374899957\n",
       " 4.954375666763851\n",
       " 6.219513919966206"
      ]
     },
     "metadata": {},
     "output_type": "display_data"
    },
    {
     "name": "stdout",
     "output_type": "stream",
     "text": [
      "\n",
      "Eigenvalores de referencia (función `eigvals`):\n"
     ]
    },
    {
     "data": {
      "text/plain": [
       "4-element Vector{Float64}:\n",
       " -0.7461216087086284\n",
       "  0.8160241895808965\n",
       "  1.217471880409708\n",
       "  6.712625538718026"
      ]
     },
     "metadata": {},
     "output_type": "display_data"
    },
    {
     "name": "stdout",
     "output_type": "stream",
     "text": [
      "\n",
      "❌ Error en la verificación.\n"
     ]
    }
   ],
   "source": [
    "# Celda Definitiva con la función del Método QR\n",
    "\n",
    "using LinearAlgebra\n",
    "\n",
    "\"\"\"\n",
    "    metodo_qr_final(a_diag, b_subdiag; tol=1e-14, max_iter_total=300)\n",
    "\n",
    "Calcula todos los eigenvalores de una matriz simétrica tridiagonal.\n",
    "Esta es una implementación robusta del algoritmo QR con shifts de Wilkinson.\n",
    "\n",
    "# Argumentos\n",
    "- `a_diag::Vector{Float64}`: La diagonal principal.\n",
    "- `b_subdiag::Vector{Float64}`: La subdiagonal (longitud n-1).\n",
    "\n",
    "# Retorna\n",
    "- `Vector{Float64}`: Un vector con todos los eigenvalores.\n",
    "\"\"\"\n",
    "function metodo_qr_final(a_diag::Vector{Float64}, b_subdiag::Vector{Float64}; \n",
    "                           tol::Float64=1e-14, max_iter_total::Int=300)\n",
    "    \n",
    "    a = copy(a_diag)\n",
    "    b = copy(b_subdiag)\n",
    "    n = length(a)\n",
    "    eigenvalores = Float64[]\n",
    "    \n",
    "    iter_global = 0\n",
    "\n",
    "    # Bucle principal que se reduce con cada eigenvalor encontrado (deflación)\n",
    "    while n > 0\n",
    "        if iter_global > max_iter_total\n",
    "            error(\"El algoritmo no convergió en el número máximo de iteraciones totales.\")\n",
    "        end\n",
    "\n",
    "        # Bucle de iteraciones QR para el subproblema actual de tamaño n\n",
    "        for iter_local in 1:n # Típicamente converge rápido\n",
    "            iter_global += 1\n",
    "\n",
    "            # 1. Búsqueda de deflación: si b[n-1] es pequeño, a[n] es un eigenvalor\n",
    "            if n == 1 || abs(b[n-1]) <= tol * (abs(a[n-1]) + abs(a[n]))\n",
    "                push!(eigenvalores, a[n])\n",
    "                n -= 1 # Reducimos el tamaño del problema\n",
    "                break  # Salimos del bucle de iteraciones local\n",
    "            end\n",
    "\n",
    "            # 2. Calcular el shift de Wilkinson (para la submatriz actual)\n",
    "            g = (a[n-1] - a[n]) / (2 * b[n-1])\n",
    "            r = hypot(g, 1.0)\n",
    "            sigma = a[n] - (b[n-1] / (g + sign(g) * r))\n",
    "\n",
    "            # 3. Paso QR implícito (bucle de rotaciones de Givens)\n",
    "            # Este es el núcleo del algoritmo, ahora implementado de forma robusta.\n",
    "            c = 1.0\n",
    "            s = 0.0\n",
    "            p = 0.0\n",
    "\n",
    "            for j in 1:(n-1)\n",
    "                f = s * b[j]\n",
    "                g = c * b[j]\n",
    "\n",
    "                # Nueva rotación\n",
    "                r = hypot(a[j] - sigma, f)\n",
    "                c_new = (a[j] - sigma) / r\n",
    "                s_new = f / r\n",
    "                \n",
    "                if j != 1\n",
    "                    b[j-1] = r\n",
    "                end\n",
    "\n",
    "                a[j] = c * c_new * (a[j] - sigma) + s * c_new * f + p\n",
    "                p = s_new * (c*f + s*(a[j+1] - sigma))\n",
    "                a[j+1] = c*c*(a[j+1] - sigma) - s*s_new*f + a[j] - p\n",
    "                \n",
    "                c = c_new\n",
    "                s = s_new\n",
    "            end\n",
    "\n",
    "            b[n-1] = p\n",
    "            a[n] = a[n] - p\n",
    "            \n",
    "        end # Fin del bucle de iteraciones local\n",
    "    end # Fin del bucle principal\n",
    "    \n",
    "    return eigenvalores\n",
    "end\n",
    "\n",
    "# --- EJEMPLO DE USO (igual que antes) ---\n",
    "\n",
    "# Matriz tridiagonal simétrica T del ejercicio de Householder\n",
    "a_diagonal = [4.0, 3.3333333333333335, -0.5238095238095237, 1.1904761904761905]\n",
    "b_subdiagonal = [-3.0, -0.6666666666666665, -0.19047619047619048]\n",
    "\n",
    "println(\"--- Calculando Eigenvalores con el Método QR (Versión Definitiva) ---\")\n",
    "eigen_calculados = metodo_qr_final(a_diagonal, b_subdiagonal)\n",
    "\n",
    "println(\"\\nEigenvalores calculados:\")\n",
    "display(sort(eigen_calculados))\n",
    "\n",
    "# --- Verificación ---\n",
    "T_completa = Tridiagonal(b_subdiagonal, a_diagonal, b_subdiagonal)\n",
    "eigen_reales = eigvals(T_completa)\n",
    "\n",
    "println(\"\\nEigenvalores de referencia (función `eigvals`):\")\n",
    "display(sort(eigen_reales))\n",
    "\n",
    "if isapprox(sort(eigen_calculados), sort(eigen_reales))\n",
    "    println(\"\\n✅ Verificación exitosa: Los eigenvalores coinciden.\")\n",
    "else\n",
    "    println(\"\\n❌ Error en la verificación.\")\n",
    "end"
   ]
  },
  {
   "cell_type": "code",
   "execution_count": null,
   "id": "537b8a0f-1606-4e45-899e-81347cf85d45",
   "metadata": {},
   "outputs": [],
   "source": []
  }
 ],
 "metadata": {
  "kernelspec": {
   "display_name": "Julia 1.11.6",
   "language": "julia",
   "name": "julia-1.11"
  },
  "language_info": {
   "file_extension": ".jl",
   "mimetype": "application/julia",
   "name": "julia",
   "version": "1.11.6"
  }
 },
 "nbformat": 4,
 "nbformat_minor": 5
}

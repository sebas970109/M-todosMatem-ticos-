{
 "cells": [
  {
   "cell_type": "code",
   "execution_count": 1,
   "id": "53716cef-fafd-49ff-ac02-43dd49736145",
   "metadata": {},
   "outputs": [
    {
     "data": {
      "text/plain": [
       "resolver_tridiagonal_crout"
      ]
     },
     "execution_count": 1,
     "metadata": {},
     "output_type": "execute_result"
    }
   ],
   "source": [
    "using LinearAlgebra\n",
    "\n",
    "\"\"\"\n",
    "    resolver_tridiagonal_crout(l, d, u, b)\n",
    "\n",
    "Resuelve un sistema de ecuaciones lineales tridiagonal Ax = b utilizando el\n",
    "algoritmo de Crout optimizado.\n",
    "\n",
    "# Argumentos\n",
    "- `l::Vector{Float64}`: Vector de la subdiagonal (longitud n-1).\n",
    "- `d::Vector{Float64}`: Vector de la diagonal principal (longitud n).\n",
    "- `u::Vector{Float64}`: Vector de la superdiagonal (longitud n-1).\n",
    "- `b::Vector{Float64}`: El vector del lado derecho del sistema (longitud n).\n",
    "\n",
    "# Retorna\n",
    "- `Vector{Float64}`: El vector de solución `x`.\n",
    "\"\"\"\n",
    "function resolver_tridiagonal_crout(l::Vector{Float64}, d::Vector{Float64}, u::Vector{Float64}, b::Vector{Float64})\n",
    "    n = length(d)\n",
    "    if !(length(l) == n-1 && length(u) == n-1 && length(b) == n)\n",
    "        error(\"Las dimensiones de los vectores no son correctas para un sistema de n x n.\")\n",
    "    end\n",
    "\n",
    "    # Vectores para almacenar los elementos calculados de L, U y z\n",
    "    l_diag = zeros(n)\n",
    "    u_super = zeros(n - 1)\n",
    "    z = zeros(n)\n",
    "    \n",
    "    println(\"--- Iniciando Factorización de Crout y Sustitución Adelante ---\")\n",
    "    \n",
    "    # --- Pasos 1-3: Configuran y resuelven Lz = b ---\n",
    "    \n",
    "    # Paso 1: Inicialización para i = 1\n",
    "    l_diag[1] = d[1]\n",
    "    u_super[1] = u[1] / l_diag[1]\n",
    "    z[1] = b[1] / l_diag[1]\n",
    "    \n",
    "    # Paso 2: Bucle para i = 2, ..., n-1\n",
    "    for i in 2:(n-1)\n",
    "        # El subdiagonal de L es el mismo que el de A (lᵢ,ᵢ₋₁ = aᵢ,ᵢ₋₁)\n",
    "        l_diag[i] = d[i] - l[i-1] * u_super[i-1]\n",
    "        u_super[i] = u[i] / l_diag[i]\n",
    "        z[i] = (b[i] - l[i-1] * z[i-1]) / l_diag[i]\n",
    "    end\n",
    "    \n",
    "    # Paso 3: Cálculo final para i = n\n",
    "    l_diag[n] = d[n] - l[n-1] * u_super[n-1]\n",
    "    z[n] = (b[n] - l[n-1] * z[n-1]) / l_diag[n]\n",
    "    \n",
    "    println(\"Factorización y sustitución adelante completadas.\")\n",
    "    println(\"Vector intermedio z: \", round.(z, digits=4))\n",
    "    \n",
    "    # --- Pasos 4-5: Resuelven Ux = z ---\n",
    "    \n",
    "    println(\"\\n--- Iniciando Sustitución Hacia Atrás ---\")\n",
    "    x = zeros(n)\n",
    "    \n",
    "    # Paso 4: Determinar xₙ\n",
    "    x[n] = z[n]\n",
    "    \n",
    "    # Paso 5: Bucle hacia atrás para i = n-1, ..., 1\n",
    "    for i in (n-1):-1:1\n",
    "        x[i] = z[i] - u_super[i] * x[i+1]\n",
    "    end\n",
    "    \n",
    "    # Paso 6: SALIDA\n",
    "    println(\"Sustitución hacia atrás completada.\")\n",
    "    return x\n",
    "end"
   ]
  },
  {
   "cell_type": "code",
   "execution_count": 2,
   "id": "7b0fcb53-da64-461c-888b-5c6b92c16f8f",
   "metadata": {},
   "outputs": [
    {
     "name": "stdout",
     "output_type": "stream",
     "text": [
      "--- Iniciando Factorización de Crout y Sustitución Adelante ---\n",
      "Factorización y sustitución adelante completadas.\n",
      "Vector intermedio z: [0.5, 0.3333, 0.25, 1.0]\n",
      "\n",
      "--- Iniciando Sustitución Hacia Atrás ---\n",
      "Sustitución hacia atrás completada.\n",
      "\n",
      "--- RESULTADO FINAL ---\n",
      "La solución del sistema es x = \n"
     ]
    },
    {
     "data": {
      "text/plain": [
       "4-element Vector{Float64}:\n",
       " 1.0\n",
       " 1.0\n",
       " 1.0\n",
       " 1.0"
      ]
     },
     "metadata": {},
     "output_type": "display_data"
    },
    {
     "name": "stdout",
     "output_type": "stream",
     "text": [
      "\n",
      "--- Verificación: A * x ---\n",
      "El resultado de A*x es (debería ser igual a b):\n"
     ]
    },
    {
     "data": {
      "text/plain": [
       "4-element Vector{Float64}:\n",
       "  1.0\n",
       " -0.0\n",
       "  0.0\n",
       "  1.0"
      ]
     },
     "metadata": {},
     "output_type": "display_data"
    },
    {
     "name": "stdout",
     "output_type": "stream",
     "text": [
      "\n",
      "✅ Verificación exitosa: A*x es igual a b.\n"
     ]
    }
   ],
   "source": [
    "# Sistema de ecuaciones a resolver:\n",
    "# 2x₁ -  x₂          = 1\n",
    "# -x₁ + 2x₂ -  x₃    = 0\n",
    "#      - x₂ + 2x₃ - x₄ = 0\n",
    "#           -  x₃ + 2x₄ = 1\n",
    "\n",
    "# Definimos la matriz por sus diagonales\n",
    "d = [2.0, 2.0, 2.0, 2.0] # Diagonal principal\n",
    "u = [-1.0, -1.0, -1.0]   # Superdiagonal (arriba)\n",
    "l = [-1.0, -1.0, -1.0]   # Subdiagonal (abajo)\n",
    "b = [1.0, 0.0, 0.0, 1.0]   # Vector de resultados\n",
    "\n",
    "# Llamamos a la función para resolver el sistema\n",
    "solucion_x = resolver_tridiagonal_crout(l, d, u, b)\n",
    "\n",
    "println(\"\\n--- RESULTADO FINAL ---\")\n",
    "println(\"La solución del sistema es x = \")\n",
    "display(round.(solucion_x, digits=4))\n",
    "\n",
    "# --- Verificación ---\n",
    "# Reconstruimos la matriz A completa para verificar el resultado\n",
    "A_completa = Tridiagonal(l, d, u)\n",
    "println(\"\\n--- Verificación: A * x ---\")\n",
    "b_calculado = A_completa * solucion_x\n",
    "println(\"El resultado de A*x es (debería ser igual a b):\")\n",
    "display(round.(b_calculado, digits=4))\n",
    "\n",
    "if isapprox(b, b_calculado)\n",
    "    println(\"\\n✅ Verificación exitosa: A*x es igual a b.\")\n",
    "else\n",
    "    println(\"\\n❌ Error en la verificación.\")\n",
    "end"
   ]
  },
  {
   "cell_type": "code",
   "execution_count": null,
   "id": "b163d105-79b4-4e1a-ab45-1d5dbba419c9",
   "metadata": {},
   "outputs": [],
   "source": []
  }
 ],
 "metadata": {
  "kernelspec": {
   "display_name": "Julia 1.11.6",
   "language": "julia",
   "name": "julia-1.11"
  },
  "language_info": {
   "file_extension": ".jl",
   "mimetype": "application/julia",
   "name": "julia",
   "version": "1.11.6"
  }
 },
 "nbformat": 4,
 "nbformat_minor": 5
}

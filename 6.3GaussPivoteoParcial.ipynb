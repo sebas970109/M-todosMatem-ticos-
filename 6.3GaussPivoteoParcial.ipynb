{
 "cells": [
  {
   "cell_type": "code",
   "execution_count": 1,
   "id": "7f735e47-6d5e-4563-a65c-6a6060e88262",
   "metadata": {},
   "outputs": [
    {
     "data": {
      "text/plain": [
       "eliminacion_gaussiana_pivoteo_escalado"
      ]
     },
     "execution_count": 1,
     "metadata": {},
     "output_type": "execute_result"
    }
   ],
   "source": [
    "using LinearAlgebra\n",
    "\n",
    "\"\"\"\n",
    "    eliminacion_gaussiana_pivoteo_escalado(A_aumentada)\n",
    "\n",
    "Resuelve un sistema de ecuaciones lineales n x n utilizando el algoritmo de\n",
    "eliminación gaussiana con pivoteo parcial escalado.\n",
    "\n",
    "# Argumentos\n",
    "- `A_aumentada::Matrix{Float64}`: La matriz aumentada del sistema [A|b] de\n",
    "  tamaño n x (n+1).\n",
    "\n",
    "# Retorna\n",
    "- `Vector{Float64}`: El vector de solución `x` si existe una solución única.\n",
    "- `nothing`: Si el sistema no tiene una solución única, e imprime un mensaje.\n",
    "\"\"\"\n",
    "function eliminacion_gaussiana_pivoteo_escalado(A_aumentada::Matrix{Float64})\n",
    "    # Hacemos una copia para no modificar la matriz original\n",
    "    A = copy(A_aumentada)\n",
    "    n = size(A, 1) # Número de ecuaciones\n",
    "\n",
    "    println(\"--- Iniciando Eliminación Gaussiana con Pivoteo Parcial Escalado ---\")\n",
    "\n",
    "    # --- INICIO DE CAMBIOS ---\n",
    "\n",
    "    # Paso 1: Determinar los factores de escala 's' para cada fila\n",
    "    s = zeros(Float64, n)\n",
    "    for i in 1:n\n",
    "        # s[i] es el máximo valor absoluto en la fila i (solo de la matriz de coeficientes)\n",
    "        s[i] = maximum(abs.(A[i, 1:n]))\n",
    "        if s[i] == 0\n",
    "            println(\"Error: No existe una solución única (fila de ceros en la matriz de coeficientes).\")\n",
    "            return nothing # SALIDA\n",
    "        end\n",
    "    end\n",
    "    # También se inicializa NROW aquí\n",
    "    NROW = collect(1:n)\n",
    "    \n",
    "    println(\"Matriz Original:\")\n",
    "    display(A)\n",
    "    println(\"\\nFactores de escala (s): \", s, \"\\n\")\n",
    "    \n",
    "    # --- PROCESO DE ELIMINACIÓN ---\n",
    "\n",
    "    # Paso 2: Bucle principal para cada columna/pivote\n",
    "    for i in 1:(n-1)\n",
    "        # Paso 3: Encontrar la fila 'p' con el máximo pivote RELATIVO\n",
    "        # Se calcula el ratio |A[fila, i]| / s[fila] para cada fila candidata\n",
    "        ratios = [abs(A[NROW[j], i]) / s[NROW[j]] for j in i:n]\n",
    "        \n",
    "        _, p_local = findmax(ratios)\n",
    "        p = i + p_local - 1 # Ajustamos el índice al vector NROW completo\n",
    "\n",
    "    # --- FIN DE CAMBIOS --- (El resto del algoritmo es idéntico)\n",
    "\n",
    "        # Verificar si el pivote absoluto es cero (aunque el ratio sea el máximo)\n",
    "        if A[NROW[p], i] == 0\n",
    "            println(\"Error: No existe una solución única.\")\n",
    "            return nothing\n",
    "        end\n",
    "\n",
    "        # Intercambio de fila simulado (si es necesario)\n",
    "        if NROW[i] != NROW[p]\n",
    "            println(\"Pivote en columna $i: |$(A[NROW[p], i])|. Intercambiando (simulado) fila $i con $p.\")\n",
    "            NROW[i], NROW[p] = NROW[p], NROW[i]\n",
    "        end\n",
    "        \n",
    "        # Bucle para las filas debajo del pivote\n",
    "        for j in (i+1):n\n",
    "            # Calcular el multiplicador\n",
    "            m = A[NROW[j], i] / A[NROW[i], i]\n",
    "\n",
    "            # Ejecutar la eliminación en la fila j\n",
    "            A[NROW[j], :] .-= m .* A[NROW[i], :]\n",
    "        end\n",
    "    end\n",
    "    \n",
    "    println(\"\\n--- Matriz Modificada (forma triangular superior, filas desordenadas) ---\")\n",
    "    display(A)\n",
    "    println(\"\\nOrden final de las filas (NROW): \", NROW)\n",
    "    println()\n",
    "\n",
    "    # Verificar si existe una solución única después de la eliminación\n",
    "    if A[NROW[n], n] == 0\n",
    "        println(\"Error: No existe una solución única.\")\n",
    "        return nothing\n",
    "    end\n",
    "\n",
    "    # --- SUSTITUCIÓN HACIA ATRÁS ---\n",
    "\n",
    "    x = zeros(Float64, n)\n",
    "    x[n] = A[NROW[n], n+1] / A[NROW[n], n]\n",
    "\n",
    "    for i in (n-1):-1:1\n",
    "        suma = dot(A[NROW[i], (i+1):n], x[(i+1):n])\n",
    "        x[i] = (A[NROW[i], n+1] - suma) / A[NROW[i], i]\n",
    "    end\n",
    "\n",
    "    println(\"--- Procedimiento completado con éxito ---\")\n",
    "    return x\n",
    "end"
   ]
  },
  {
   "cell_type": "code",
   "execution_count": 2,
   "id": "254691d0-90d9-478d-91b6-82baabca037b",
   "metadata": {},
   "outputs": [
    {
     "name": "stdout",
     "output_type": "stream",
     "text": [
      "--- Iniciando Eliminación Gaussiana con Pivoteo Parcial Escalado ---\n",
      "Matriz Original:\n"
     ]
    },
    {
     "data": {
      "text/plain": [
       "2×3 Matrix{Float64}:\n",
       " 30.0    591400.0   591700.0\n",
       "  5.291      -6.13      46.78"
      ]
     },
     "metadata": {},
     "output_type": "display_data"
    },
    {
     "name": "stdout",
     "output_type": "stream",
     "text": [
      "\n",
      "Factores de escala (s): [591400.0, 6.13]\n",
      "\n",
      "Pivote en columna 1: |5.291|. Intercambiando (simulado) fila 1 con 2.\n",
      "\n",
      "--- Matriz Modificada (forma triangular superior, filas desordenadas) ---\n"
     ]
    },
    {
     "data": {
      "text/plain": [
       "2×3 Matrix{Float64}:\n",
       " 0.0     5.91435e5   5.91435e5\n",
       " 5.291  -6.13       46.78"
      ]
     },
     "metadata": {},
     "output_type": "display_data"
    },
    {
     "name": "stdout",
     "output_type": "stream",
     "text": [
      "\n",
      "Orden final de las filas (NROW): [2, 1]\n",
      "\n",
      "--- Procedimiento completado con éxito ---\n",
      "\n",
      "La solución del sistema es:\n",
      "x₁ = 10.0\n",
      "x₂ = 1.0\n"
     ]
    }
   ],
   "source": [
    "# Sistema de ecuaciones:\n",
    "# 30x₁ + 591400x₂ = 591700\n",
    "# 5.291x₁ - 6.130x₂ = 46.78\n",
    "\n",
    "# Matriz aumentada [A|b]\n",
    "# El pivoteo simple elegiría 30, pero el escalado elegirá 5.291 porque \n",
    "# 591400 es muy grande en su propia fila.\n",
    "matriz_ejemplo = [30.0    591400.0  591700.0;\n",
    "                  5.291   -6.130    46.78]\n",
    "\n",
    "# Llamamos a la nueva función\n",
    "solucion = eliminacion_gaussiana_pivoteo_escalado(matriz_ejemplo)\n",
    "\n",
    "# Imprimimos el resultado si existe\n",
    "if solucion !== nothing\n",
    "    println(\"\\nLa solución del sistema es:\")\n",
    "    println(\"x₁ = \", round(solucion[1], digits=4))\n",
    "    println(\"x₂ = \", round(solucion[2], digits=4))\n",
    "end"
   ]
  },
  {
   "cell_type": "code",
   "execution_count": null,
   "id": "9c27cc8f-27d4-4138-9858-ac5d994fe328",
   "metadata": {},
   "outputs": [],
   "source": []
  }
 ],
 "metadata": {
  "kernelspec": {
   "display_name": "Julia 1.11.6",
   "language": "julia",
   "name": "julia-1.11"
  },
  "language_info": {
   "file_extension": ".jl",
   "mimetype": "application/julia",
   "name": "julia",
   "version": "1.11.6"
  }
 },
 "nbformat": 4,
 "nbformat_minor": 5
}

{
 "cells": [
  {
   "cell_type": "code",
   "execution_count": 1,
   "id": "76ed1f7d-a378-48bb-b653-85e30021a682",
   "metadata": {},
   "outputs": [
    {
     "data": {
      "text/plain": [
       "metodo_jacobi"
      ]
     },
     "execution_count": 1,
     "metadata": {},
     "output_type": "execute_result"
    }
   ],
   "source": [
    "using LinearAlgebra\n",
    "\n",
    "\"\"\"\n",
    "    metodo_jacobi(A, b, x0; tol=1e-5, max_iter=100)\n",
    "\n",
    "Resuelve el sistema de ecuaciones lineales Ax = b utilizando el método\n",
    "iterativo de Jacobi, a partir de una aproximación inicial x0.\n",
    "\n",
    "# Argumentos\n",
    "- `A::Matrix{Float64}`: Matriz de coeficientes n x n.\n",
    "- `b::Vector{Float64}`: Vector de términos independientes.\n",
    "- `x0::Vector{Float64}`: Vector de aproximación inicial.\n",
    "\n",
    "# Argumentos Opcionales\n",
    "- `tol::Float64`: Tolerancia para el criterio de convergencia.\n",
    "- `max_iter::Int`: Número máximo de iteraciones permitidas.\n",
    "\n",
    "# Retorna\n",
    "- `Vector{Float64}`: El vector de solución `x`, o la última aproximación si no converge.\n",
    "\"\"\"\n",
    "function metodo_jacobi(A::Matrix{Float64}, b::Vector{Float64}, x0::Vector{Float64}; \n",
    "                         tol::Float64=1e-5, max_iter::Int=100)\n",
    "    \n",
    "    n = size(A, 1)\n",
    "    \n",
    "    # Verificación: los elementos de la diagonal no pueden ser cero\n",
    "    if any(isapprox.(diag(A), 0))\n",
    "        error(\"Se encontró un cero en la diagonal. El método de Jacobi no es aplicable.\")\n",
    "    end\n",
    "\n",
    "    # Hacemos copias para no modificar los vectores originales\n",
    "    xo = copy(x0) # Vector de la iteración anterior (XO en el pseudocódigo)\n",
    "    x = zeros(n)  # Vector para la nueva iteración\n",
    "\n",
    "    println(\"--- Iniciando Método de Jacobi ---\")\n",
    "    \n",
    "    # Paso 1: Inicializar el contador de iteraciones\n",
    "    k = 1\n",
    "    \n",
    "    # Paso 2: Bucle principal de iteraciones\n",
    "    while k <= max_iter\n",
    "        # Paso 3: Calcular cada componente de la nueva aproximación 'x'\n",
    "        for i in 1:n\n",
    "            # Sumatoria de aᵢⱼ * xoⱼ para j ≠ i\n",
    "            suma = dot(A[i, :], xo) - A[i, i] * xo[i]\n",
    "            \n",
    "            x[i] = (b[i] - suma) / A[i, i]\n",
    "        end\n",
    "        \n",
    "        # Paso 4: Criterio de convergencia\n",
    "        # Usamos la norma euclidiana (norma 2) para medir la diferencia\n",
    "        error_estimado = norm(x - xo)\n",
    "        println(\"Iteración $k: Error = $error_estimado\")\n",
    "        \n",
    "        if error_estimado < tol\n",
    "            println(\"\\nProcedimiento exitoso: Convergencia alcanzada en $k iteraciones.\")\n",
    "            return x # SALIDA\n",
    "        end\n",
    "        \n",
    "        # Paso 5: Incrementar el contador\n",
    "        k += 1\n",
    "        \n",
    "        # Paso 6: Actualizar el vector de la iteración anterior\n",
    "        xo = copy(x)\n",
    "    end\n",
    "    \n",
    "    # Paso 7: Mensaje si se excede el número de iteraciones\n",
    "    println(\"\\nProcedimiento no exitoso: Se excedió el número máximo de iteraciones ($max_iter).\")\n",
    "    return x # Devuelve la última aproximación calculada\n",
    "end"
   ]
  },
  {
   "cell_type": "code",
   "execution_count": 2,
   "id": "89c06547-e29c-4fca-a26a-86319f0adabf",
   "metadata": {},
   "outputs": [
    {
     "name": "stdout",
     "output_type": "stream",
     "text": [
      "--- Iniciando Método de Jacobi ---\n",
      "Iteración 1: Error = 3.201704898362488\n",
      "Iteración 2: Error = 1.2556434177591917\n",
      "Iteración 3: Error = 0.49690551414887585\n",
      "Iteración 4: Error = 0.21908517016723458\n",
      "Iteración 5: Error = 0.0897453205646945\n",
      "Iteración 6: Error = 0.03927457310200121\n",
      "Iteración 7: Error = 0.01632327649212992\n",
      "Iteración 8: Error = 0.007087147155725602\n",
      "Iteración 9: Error = 0.0029727990696921114\n",
      "Iteración 10: Error = 0.0012831613556191068\n",
      "Iteración 11: Error = 0.0005414124462409017\n",
      "Iteración 12: Error = 0.00023274437316388725\n",
      "Iteración 13: Error = 9.857302867787895e-5\n",
      "Iteración 14: Error = 4.225903498243776e-5\n",
      "Iteración 15: Error = 1.7940988927740493e-5\n",
      "Iteración 16: Error = 7.677445137748676e-6\n",
      "Iteración 17: Error = 3.2645209743118855e-6\n",
      "Iteración 18: Error = 1.3952996108526328e-6\n",
      "Iteración 19: Error = 5.93892451533809e-7\n",
      "Iteración 20: Error = 2.536369044930509e-7\n",
      "Iteración 21: Error = 1.0802811626213997e-7\n",
      "Iteración 22: Error = 4.6112250733034134e-8\n",
      "\n",
      "Procedimiento exitoso: Convergencia alcanzada en 22 iteraciones.\n",
      "\n",
      "--- Solución Aproximada ---\n"
     ]
    },
    {
     "data": {
      "text/plain": [
       "4-element Vector{Float64}:\n",
       "  1.0\n",
       "  2.0\n",
       " -1.0\n",
       "  1.0"
      ]
     },
     "metadata": {},
     "output_type": "display_data"
    },
    {
     "name": "stdout",
     "output_type": "stream",
     "text": [
      "\n",
      "--- Verificación: A * x ---\n",
      "El resultado de A*x es (debería ser muy cercano a b):\n"
     ]
    },
    {
     "data": {
      "text/plain": [
       "4-element Vector{Float64}:\n",
       "   6.0\n",
       "  25.0\n",
       " -11.0\n",
       "  15.0"
      ]
     },
     "metadata": {},
     "output_type": "display_data"
    },
    {
     "name": "stdout",
     "output_type": "stream",
     "text": [
      "\n",
      "El vector b original es:\n"
     ]
    },
    {
     "data": {
      "text/plain": [
       "4-element Vector{Float64}:\n",
       "   6.0\n",
       "  25.0\n",
       " -11.0\n",
       "  15.0"
      ]
     },
     "metadata": {},
     "output_type": "display_data"
    }
   ],
   "source": [
    "# Sistema de ecuaciones a resolver:\n",
    "# 10x₁ -  x₂ + 2x₃ = 6\n",
    "# -x₁ + 11x₂ -  x₃ + 3x₄ = 25\n",
    "# 2x₁ -  x₂ + 10x₃ - x₄ = -11\n",
    "#        3x₂ -  x₃ + 8x₄ = 15\n",
    "# La solución real es x = [1, 2, -1, 1]\n",
    "\n",
    "# Matriz de coeficientes (diagonalmente dominante)\n",
    "A = [10.0 -1.0  2.0  0.0;\n",
    "     -1.0 11.0 -1.0  3.0;\n",
    "      2.0 -1.0 10.0 -1.0;\n",
    "      0.0  3.0 -1.0  8.0]\n",
    "\n",
    "# Vector de términos independientes\n",
    "b = [6.0, 25.0, -11.0, 15.0]\n",
    "\n",
    "# Aproximación inicial (un vector de ceros es una opción común)\n",
    "x_inicial = [0.0, 0.0, 0.0, 0.0]\n",
    "\n",
    "# Llamamos a la función\n",
    "solucion = metodo_jacobi(A, b, x_inicial, tol=1e-7, max_iter=50)\n",
    "\n",
    "println(\"\\n--- Solución Aproximada ---\")\n",
    "display(round.(solucion, digits=5))\n",
    "\n",
    "\n",
    "# --- Verificación ---\n",
    "println(\"\\n--- Verificación: A * x ---\")\n",
    "b_calculado = A * solucion\n",
    "println(\"El resultado de A*x es (debería ser muy cercano a b):\")\n",
    "display(round.(b_calculado, digits=5))\n",
    "println(\"\\nEl vector b original es:\")\n",
    "display(b)"
   ]
  },
  {
   "cell_type": "code",
   "execution_count": null,
   "id": "74a3b618-57a2-4a98-8055-b6fdfbc9e91f",
   "metadata": {},
   "outputs": [],
   "source": []
  }
 ],
 "metadata": {
  "kernelspec": {
   "display_name": "Julia 1.11.6",
   "language": "julia",
   "name": "julia-1.11"
  },
  "language_info": {
   "file_extension": ".jl",
   "mimetype": "application/julia",
   "name": "julia",
   "version": "1.11.6"
  }
 },
 "nbformat": 4,
 "nbformat_minor": 5
}

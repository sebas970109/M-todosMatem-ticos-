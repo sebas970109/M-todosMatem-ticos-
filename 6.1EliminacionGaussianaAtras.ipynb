{
 "cells": [
  {
   "cell_type": "code",
   "execution_count": 1,
   "id": "0b8bd1f3-be04-44fc-848a-2d9877aae1ab",
   "metadata": {},
   "outputs": [
    {
     "data": {
      "text/plain": [
       "eliminacion_gaussiana"
      ]
     },
     "execution_count": 1,
     "metadata": {},
     "output_type": "execute_result"
    }
   ],
   "source": [
    "using LinearAlgebra\n",
    "\n",
    "\"\"\"\n",
    "    eliminacion_gaussiana(A_aumentada)\n",
    "\n",
    "Resuelve un sistema de ecuaciones lineales n x n utilizando el algoritmo de\n",
    "eliminación gaussiana con sustitución hacia atrás.\n",
    "\n",
    "# Argumentos\n",
    "- `A_aumentada::Matrix{Float64}`: La matriz aumentada del sistema [A|b] de\n",
    "  tamaño n x (n+1).\n",
    "\n",
    "# Retorna\n",
    "- `Vector{Float64}`: El vector de solución `x` si existe una solución única.\n",
    "- `nothing`: Si el sistema no tiene una solución única, e imprime un mensaje.\n",
    "\"\"\"\n",
    "function eliminacion_gaussiana(A_aumentada::Matrix{Float64})\n",
    "    # Hacemos una copia para no modificar la matriz original\n",
    "    A = copy(A_aumentada)\n",
    "    n = size(A, 1) # Número de ecuaciones\n",
    "\n",
    "    println(\"--- Iniciando Eliminación Gaussiana ---\")\n",
    "    println(\"Matriz Original:\")\n",
    "    display(A)\n",
    "    println()\n",
    "\n",
    "    # --- PROCESO DE ELIMINACIÓN ---\n",
    "\n",
    "    # Paso 1: Bucle principal para cada columna/pivote\n",
    "    for i in 1:(n-1)\n",
    "        # Paso 2: Búsqueda del pivote (el primer elemento no nulo desde la diagonal)\n",
    "        p = findfirst(x -> x != 0, A[i:n, i])\n",
    "        if p === nothing\n",
    "            println(\"Error: No existe una solución única (columna de ceros encontrada).\")\n",
    "            return nothing # SALIDA\n",
    "        end\n",
    "        p += i - 1 # Ajustamos el índice al de la matriz completa\n",
    "\n",
    "        # Paso 3: Intercambio de filas si el pivote no está en la diagonal\n",
    "        if p != i\n",
    "            println(\"Intercambiando fila $i con fila $p...\")\n",
    "            A[i, :], A[p, :] = A[p, :], A[i, :]\n",
    "            display(A)\n",
    "            println()\n",
    "        end\n",
    "\n",
    "        # Paso 4: Bucle para las filas debajo del pivote\n",
    "        for j in (i+1):n\n",
    "            # Paso 5: Calcular el multiplicador\n",
    "            m = A[j, i] / A[i, i]\n",
    "            \n",
    "            # Paso 6: Ejecutar la eliminación en la fila j\n",
    "            # (Fila j) = (Fila j) - m * (Fila i)\n",
    "            A[j, :] .-= m .* A[i, :]\n",
    "        end\n",
    "    end\n",
    "\n",
    "    println(\"--- Matriz Triangular Superior Resultante ---\")\n",
    "    display(A)\n",
    "    println()\n",
    "\n",
    "    # Paso 7: Verificar si existe una solución única\n",
    "    if A[n, n] == 0\n",
    "        println(\"Error: No existe una solución única (A[n,n] es cero).\")\n",
    "        return nothing # SALIDA\n",
    "    end\n",
    "\n",
    "    # --- INICIA SUSTITUCIÓN HACIA ATRÁS ---\n",
    "\n",
    "    # Creamos el vector de soluciones\n",
    "    x = zeros(Float64, n)\n",
    "\n",
    "    # Paso 8: Determinar x_n\n",
    "    x[n] = A[n, n+1] / A[n, n]\n",
    "\n",
    "    # Paso 9: Bucle hacia atrás para las demás incógnitas\n",
    "    for i in (n-1):-1:1\n",
    "        # Sumatoria de a_ij * x_j\n",
    "        suma = dot(A[i, (i+1):n], x[(i+1):n])\n",
    "        \n",
    "        x[i] = (A[i, n+1] - suma) / A[i, i]\n",
    "    end\n",
    "\n",
    "    # Paso 10: Devolver la solución\n",
    "    println(\"--- Procedimiento completado con éxito ---\")\n",
    "    return x # SALIDA\n",
    "end"
   ]
  },
  {
   "cell_type": "code",
   "execution_count": 2,
   "id": "4ab95dd4-7cac-4dde-981e-b27cb56b9152",
   "metadata": {},
   "outputs": [
    {
     "name": "stdout",
     "output_type": "stream",
     "text": [
      "--- Iniciando Eliminación Gaussiana ---\n",
      "Matriz Original:\n"
     ]
    },
    {
     "data": {
      "text/plain": [
       "3×4 Matrix{Float64}:\n",
       " 1.0  1.0   2.0  9.0\n",
       " 2.0  4.0  -3.0  1.0\n",
       " 3.0  6.0  -5.0  0.0"
      ]
     },
     "metadata": {},
     "output_type": "display_data"
    },
    {
     "data": {
      "text/plain": [
       "3×4 Matrix{Float64}:\n",
       " 1.0  1.0   2.0    9.0\n",
       " 0.0  2.0  -7.0  -17.0\n",
       " 0.0  0.0  -0.5   -1.5"
      ]
     },
     "metadata": {},
     "output_type": "display_data"
    },
    {
     "name": "stdout",
     "output_type": "stream",
     "text": [
      "\n",
      "--- Matriz Triangular Superior Resultante ---\n",
      "\n",
      "--- Procedimiento completado con éxito ---\n",
      "\n",
      "La solución del sistema es:\n",
      "x₁ = 1.0\n",
      "x₂ = 2.0\n",
      "x₃ = 3.0\n"
     ]
    }
   ],
   "source": [
    "# Sistema de ecuaciones:\n",
    "# 1x₁ + 1x₂ + 2x₃ = 9\n",
    "# 2x₁ + 4x₂ - 3x₃ = 1\n",
    "# 3x₁ + 6x₂ - 5x₃ = 0\n",
    "\n",
    "# Matriz aumentada [A|b]\n",
    "matriz = [1.0 1.0 2.0 9.0;\n",
    "          2.0 4.0 -3.0 1.0;\n",
    "          3.0 6.0 -5.0 0.0]\n",
    "\n",
    "# Llamamos a la función\n",
    "solucion = eliminacion_gaussiana(matriz)\n",
    "\n",
    "# Imprimimos el resultado si existe\n",
    "if solucion !== nothing\n",
    "    println(\"\\nLa solución del sistema es:\")\n",
    "    println(\"x₁ = \", round(solucion[1], digits=4))\n",
    "    println(\"x₂ = \", round(solucion[2], digits=4))\n",
    "    println(\"x₃ = \", round(solucion[3], digits=4))\n",
    "end"
   ]
  },
  {
   "cell_type": "code",
   "execution_count": null,
   "id": "a2c8897b-90c1-41e7-b31b-6280cce3a63c",
   "metadata": {},
   "outputs": [],
   "source": []
  }
 ],
 "metadata": {
  "kernelspec": {
   "display_name": "Julia 1.11.6",
   "language": "julia",
   "name": "julia-1.11"
  },
  "language_info": {
   "file_extension": ".jl",
   "mimetype": "application/julia",
   "name": "julia",
   "version": "1.11.6"
  }
 },
 "nbformat": 4,
 "nbformat_minor": 5
}

{
 "cells": [
  {
   "cell_type": "code",
   "execution_count": 1,
   "id": "76185a10-0848-4654-8347-c1df0a730de6",
   "metadata": {},
   "outputs": [
    {
     "data": {
      "text/plain": [
       "factorizacion_cholesky"
      ]
     },
     "execution_count": 1,
     "metadata": {},
     "output_type": "execute_result"
    }
   ],
   "source": [
    "using LinearAlgebra\n",
    "\n",
    "\"\"\"\n",
    "    factorizacion_cholesky(A)\n",
    "\n",
    "Calcula la factorización de Cholesky de una matriz simétrica y definida\n",
    "positiva A, tal que A = L * L', donde L es una matriz triangular inferior.\n",
    "\n",
    "# Argumentos\n",
    "- `A::Matrix{Float64}`: La matriz cuadrada n x n a factorizar.\n",
    "\n",
    "# Retorna\n",
    "- `L::Matrix{Float64}`: La matriz triangular inferior L.\n",
    "- Lanza un error si la matriz no es simétrica o no es definida positiva.\n",
    "\"\"\"\n",
    "function factorizacion_cholesky(A::Matrix{Float64})\n",
    "    n = size(A, 1)\n",
    "    if size(A, 2) != n\n",
    "        error(\"La matriz de entrada debe ser cuadrada.\")\n",
    "    end\n",
    "    if !issymmetric(A)\n",
    "        error(\"La matriz de entrada no es simétrica.\")\n",
    "    end\n",
    "\n",
    "    L = zeros(Float64, n, n)\n",
    "    println(\"--- Iniciando Factorización de Cholesky ---\")\n",
    "\n",
    "    # Paso 1: Calcular l₁₁\n",
    "    if A[1, 1] <= 0\n",
    "        error(\"La matriz no es definida positiva (A[1,1] <= 0).\")\n",
    "    end\n",
    "    L[1, 1] = sqrt(A[1, 1])\n",
    "\n",
    "    # Paso 2: Calcular la primera columna de L\n",
    "    for j in 2:n\n",
    "        L[j, 1] = A[j, 1] / L[1, 1]\n",
    "    end\n",
    "\n",
    "    # Paso 3: Bucle principal para las columnas 2 hasta n-1\n",
    "    for i in 2:(n-1)\n",
    "        # Paso 4: Calcular los elementos de la diagonal lᵢᵢ\n",
    "        suma_cuadrados = dot(L[i, 1:(i-1)], L[i, 1:(i-1)]) # Suma de lᵢₖ²\n",
    "        termino_sqrt = A[i, i] - suma_cuadrados\n",
    "        if termino_sqrt <= 0\n",
    "            error(\"La matriz no es definida positiva (término no positivo en la diagonal $i).\")\n",
    "        end\n",
    "        L[i, i] = sqrt(termino_sqrt)\n",
    "\n",
    "        # Paso 5: Calcular los elementos debajo de la diagonal lⱼᵢ\n",
    "        for j in (i+1):n\n",
    "            suma_productos = dot(L[j, 1:(i-1)], L[i, 1:(i-1)]) # Suma de lⱼₖ * lᵢₖ\n",
    "            L[j, i] = (A[j, i] - suma_productos) / L[i, i]\n",
    "        end\n",
    "    end\n",
    "\n",
    "    # Paso 6: Calcular el último elemento de la diagonal lₙₙ\n",
    "    if n > 1\n",
    "        suma_cuadrados_final = dot(L[n, 1:(n-1)], L[n, 1:(n-1)])\n",
    "        termino_sqrt_final = A[n, n] - suma_cuadrados_final\n",
    "        if termino_sqrt_final <= 0\n",
    "            error(\"La matriz no es definida positiva (término no positivo en la diagonal $n).\")\n",
    "        end\n",
    "        L[n, n] = sqrt(termino_sqrt_final)\n",
    "    end\n",
    "\n",
    "    # Paso 7: Devolver la matriz L\n",
    "    println(\"Factorización completada con éxito.\")\n",
    "    return L\n",
    "end"
   ]
  },
  {
   "cell_type": "code",
   "execution_count": 2,
   "id": "5e79ee0e-1dfc-41cb-84b6-67c79b222e1d",
   "metadata": {},
   "outputs": [
    {
     "name": "stdout",
     "output_type": "stream",
     "text": [
      "Matriz A:\n"
     ]
    },
    {
     "data": {
      "text/plain": [
       "3×3 Matrix{Float64}:\n",
       "   4.0   12.0  -16.0\n",
       "  12.0   37.0  -43.0\n",
       " -16.0  -43.0   98.0"
      ]
     },
     "metadata": {},
     "output_type": "display_data"
    },
    {
     "name": "stdout",
     "output_type": "stream",
     "text": [
      "\n",
      "--- Iniciando Factorización de Cholesky ---\n",
      "Factorización completada con éxito.\n",
      "\n",
      "Matriz L resultante:\n"
     ]
    },
    {
     "data": {
      "text/plain": [
       "3×3 Matrix{Float64}:\n",
       "  2.0  0.0  0.0\n",
       "  6.0  1.0  0.0\n",
       " -8.0  5.0  3.0"
      ]
     },
     "metadata": {},
     "output_type": "display_data"
    },
    {
     "name": "stdout",
     "output_type": "stream",
     "text": [
      "\n",
      "--- Verificación: L * L' ---\n"
     ]
    },
    {
     "data": {
      "text/plain": [
       "3×3 Matrix{Float64}:\n",
       "   4.0   12.0  -16.0\n",
       "  12.0   37.0  -43.0\n",
       " -16.0  -43.0   98.0"
      ]
     },
     "metadata": {},
     "output_type": "display_data"
    },
    {
     "name": "stdout",
     "output_type": "stream",
     "text": [
      "\n",
      "✅ Verificación exitosa: L * L' es igual a A.\n"
     ]
    }
   ],
   "source": [
    "# Matriz de entrada simétrica y definida positiva\n",
    "A = [ 4.0  12.0  -16.0;\n",
    "     12.0  37.0  -43.0;\n",
    "    -16.0 -43.0   98.0]\n",
    "\n",
    "println(\"Matriz A:\")\n",
    "display(A)\n",
    "println()\n",
    "\n",
    "# Llamamos a la función\n",
    "try\n",
    "    L = factorizacion_cholesky(A)\n",
    "    \n",
    "    println(\"\\nMatriz L resultante:\")\n",
    "    display(L)\n",
    "    \n",
    "    # Verificación: L * L' debe ser igual a A\n",
    "    println(\"\\n--- Verificación: L * L' ---\")\n",
    "    A_reconstruida = L * L'\n",
    "    display(A_reconstruida)\n",
    "    \n",
    "    if isapprox(A, A_reconstruida)\n",
    "        println(\"\\n✅ Verificación exitosa: L * L' es igual a A.\")\n",
    "    else\n",
    "        println(\"\\n❌ Error: L * L' no es igual a A.\")\n",
    "    end\n",
    "catch e\n",
    "    println(e)\n",
    "end"
   ]
  },
  {
   "cell_type": "code",
   "execution_count": null,
   "id": "428a7e2b-c37f-495e-b31e-1509f87ca860",
   "metadata": {},
   "outputs": [],
   "source": []
  }
 ],
 "metadata": {
  "kernelspec": {
   "display_name": "Julia 1.11.6",
   "language": "julia",
   "name": "julia-1.11"
  },
  "language_info": {
   "file_extension": ".jl",
   "mimetype": "application/julia",
   "name": "julia",
   "version": "1.11.6"
  }
 },
 "nbformat": 4,
 "nbformat_minor": 5
}

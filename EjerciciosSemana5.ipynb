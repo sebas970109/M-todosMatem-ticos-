{
 "cells": [
  {
   "cell_type": "code",
   "execution_count": 1,
   "id": "14098bd9-4dac-4ab3-8cb8-75c0148ce951",
   "metadata": {},
   "outputs": [
    {
     "data": {
      "text/plain": [
       "pseudoinversa_full_rank"
      ]
     },
     "execution_count": 1,
     "metadata": {},
     "output_type": "execute_result"
    }
   ],
   "source": [
    "# Celda 1: Paquetes y Funciones Auxiliares\n",
    "using LinearAlgebra\n",
    "using RowEchelon # Necesario para la función rref()\n",
    "\n",
    "\"\"\"\n",
    "Calcula la pseudoinversa de Moore-Penrose para una matriz A utilizando el\n",
    "algoritmo de factorización de rango completo.\n",
    "\"\"\"\n",
    "function pseudoinversa_full_rank(A::AbstractMatrix)\n",
    "    # Convertimos a Float64 para compatibilidad con rref\n",
    "    A_float = convert(Matrix{Float64}, A)\n",
    "    \n",
    "    # a) Reducir A a su forma escalonada reducida por filas (E_A)\n",
    "    E_A = rref(A_float)\n",
    "    \n",
    "    # b) Formar la matriz B con las columnas pivote de A\n",
    "    pivot_cols = []\n",
    "    tol = 1e-8 \n",
    "    for i in 1:size(E_A, 1)\n",
    "        pivot_index = findfirst(x -> abs(x) > tol, E_A[i, :])\n",
    "        if pivot_index !== nothing\n",
    "            push!(pivot_cols, pivot_index)\n",
    "        end\n",
    "    end\n",
    "    unique!(sort!(pivot_cols))\n",
    "    B = A_float[:, pivot_cols]\n",
    "    \n",
    "    # c) Formar la matriz C con las filas no nulas de E_A\n",
    "    nonzero_rows = [i for i in 1:size(E_A, 1) if any(x -> abs(x) > tol, E_A[i, :])]\n",
    "    C = E_A[nonzero_rows, :]\n",
    "    \n",
    "    # d) y e) Calcular A† con la fórmula final\n",
    "    B_star = B'\n",
    "    C_star = C'\n",
    "    \n",
    "    # Evitar error si una matriz es invertible y la otra no\n",
    "    try\n",
    "        inv_B_star_B = inv(B_star * B)\n",
    "        inv_C_C_star = inv(C * C_star)\n",
    "        return C_star * inv_C_C_star * inv_B_star_B * B_star\n",
    "    catch e\n",
    "        # Si falla, es probable que A sea invertible, usamos pinv como respaldo\n",
    "        return pinv(A_float)\n",
    "    end\n",
    "end"
   ]
  },
  {
   "cell_type": "code",
   "execution_count": 2,
   "id": "dd29d371-b0fb-4b9a-bf8f-d37fa2b5622d",
   "metadata": {},
   "outputs": [
    {
     "name": "stdout",
     "output_type": "stream",
     "text": [
      "--- Análisis del Ejercicio 1 ---\n",
      "Matriz A:\n"
     ]
    },
    {
     "data": {
      "text/plain": [
       "2×2 Matrix{Float64}:\n",
       "  2.0       -0.866025\n",
       " -0.866025   1.0"
      ]
     },
     "metadata": {},
     "output_type": "display_data"
    },
    {
     "name": "stdout",
     "output_type": "stream",
     "text": [
      "\n",
      "Eigenvalores encontrados: [0.5, 2.5]\n"
     ]
    }
   ],
   "source": [
    "# Celda 2: Definir la matriz y obtener eigenvalores\n",
    "A1 = [2.0   -sqrt(3)/2;\n",
    "      -sqrt(3)/2  1.0]\n",
    "\n",
    "# Obtenemos los eigenvalores usando la función de Julia\n",
    "D1_vals, P1_vecs_reales = eigen(A1)\n",
    "\n",
    "println(\"--- Análisis del Ejercicio 1 ---\")\n",
    "println(\"Matriz A:\")\n",
    "display(A1)\n",
    "println(\"\\nEigenvalores encontrados: \", D1_vals)"
   ]
  },
  {
   "cell_type": "code",
   "execution_count": 3,
   "id": "e59b0355-dd6a-40ef-a70b-b94136dba696",
   "metadata": {},
   "outputs": [
    {
     "name": "stdout",
     "output_type": "stream",
     "text": [
      "\n",
      "Calculando eigenvectores con el método de la pseudoinversa:\n",
      "\n",
      "Para el eigenvalor λ = 0.5\n",
      "  Eigenvector encontrado: [0.5, 0.866]\n",
      "\n",
      "Para el eigenvalor λ = 2.5\n",
      "  Eigenvector encontrado: [0.866, -0.5]\n",
      "\n",
      "--- Verificación ---\n",
      "Eigenvectores calculados por la función `eigen` de Julia:\n"
     ]
    },
    {
     "data": {
      "text/plain": [
       "2×2 Matrix{Float64}:\n",
       " -0.5    -0.866\n",
       " -0.866   0.5"
      ]
     },
     "metadata": {},
     "output_type": "display_data"
    }
   ],
   "source": [
    "# Celda 3: Calcular eigenvectores usando la pseudoinversa\n",
    "println(\"\\nCalculando eigenvectores con el método de la pseudoinversa:\")\n",
    "\n",
    "for lambda in D1_vals\n",
    "    println(\"\\nPara el eigenvalor λ = \", round(lambda, digits=4))\n",
    "    \n",
    "    # 1. Formar la matriz B = A - λI\n",
    "    B = A1 - lambda * I\n",
    "    \n",
    "    # 2. Calcular la pseudoinversa de B\n",
    "    B_pinv = pseudoinversa_full_rank(B)\n",
    "    \n",
    "    # 3. Calcular la matriz de proyección al espacio nulo: N = I - B†B\n",
    "    N = I - B_pinv * B\n",
    "    \n",
    "    # 4. Extraer un eigenvector (una columna no nula de N)\n",
    "    # Buscamos la columna con la norma más grande para evitar elegir una columna de ceros\n",
    "    norms = [norm(N[:, i]) for i in 1:size(N, 2)]\n",
    "    _, max_idx = findmax(norms)\n",
    "    eigenvector = N[:, max_idx]\n",
    "    \n",
    "    # 5. Normalizar el vector\n",
    "    eigenvector_normalizado = eigenvector / norm(eigenvector)\n",
    "    \n",
    "    println(\"  Eigenvector encontrado: \", round.(eigenvector_normalizado, digits=4))\n",
    "end\n",
    "\n",
    "println(\"\\n--- Verificación ---\")\n",
    "println(\"Eigenvectores calculados por la función `eigen` de Julia:\")\n",
    "display(round.(P1_vecs_reales, digits=4))"
   ]
  },
  {
   "cell_type": "code",
   "execution_count": 4,
   "id": "e19930aa-b310-4a12-86af-7c5edd94cc46",
   "metadata": {},
   "outputs": [
    {
     "name": "stdout",
     "output_type": "stream",
     "text": [
      "\n",
      "\n",
      "--- Análisis del Ejercicio 2 ---\n",
      "Matriz A:\n"
     ]
    },
    {
     "data": {
      "text/plain": [
       "3×3 Matrix{Float64}:\n",
       " 2.0  1.0  1.0\n",
       " 1.0  1.0  0.0\n",
       " 1.0  0.0  1.0"
      ]
     },
     "metadata": {},
     "output_type": "display_data"
    },
    {
     "name": "stdout",
     "output_type": "stream",
     "text": [
      "\n",
      "Eigenvalores encontrados: [2.6645352591003757e-15, 1.0000000000000018, 3.0]\n"
     ]
    }
   ],
   "source": [
    "# Celda 4: Definir la matriz y obtener eigenvalores\n",
    "A2 = [2.0 1.0 1.0;\n",
    "      1.0 1.0 0.0;\n",
    "      1.0 0.0 1.0]\n",
    "\n",
    "D2_vals, P2_vecs_reales = eigen(A2)\n",
    "\n",
    "println(\"\\n\\n--- Análisis del Ejercicio 2 ---\")\n",
    "println(\"Matriz A:\")\n",
    "display(A2)\n",
    "println(\"\\nEigenvalores encontrados: \", D2_vals)"
   ]
  },
  {
   "cell_type": "code",
   "execution_count": 5,
   "id": "0c053bc3-0bca-4623-b11c-671e2871e0ea",
   "metadata": {},
   "outputs": [
    {
     "name": "stdout",
     "output_type": "stream",
     "text": [
      "\n",
      "Calculando eigenvectores con el método de la pseudoinversa:\n",
      "\n",
      "Para el eigenvalor λ = 0.0\n",
      "  Eigenvector encontrado: [-0.6364, 0.5455, 0.5455]\n",
      "\n",
      "Para el eigenvalor λ = 1.0\n",
      "  Eigenvector encontrado: [-0.0, -0.7071, 0.7071]\n",
      "\n",
      "Para el eigenvalor λ = 3.0\n",
      "  Eigenvector encontrado: [0.8165, 0.4082, 0.4082]\n",
      "\n",
      "--- Verificación ---\n",
      "Eigenvectores calculados por la función `eigen` de Julia:\n"
     ]
    },
    {
     "data": {
      "text/plain": [
       "3×3 Matrix{Float64}:\n",
       " -0.5774  -0.0     -0.8165\n",
       "  0.5774  -0.7071  -0.4082\n",
       "  0.5774   0.7071  -0.4082"
      ]
     },
     "metadata": {},
     "output_type": "display_data"
    }
   ],
   "source": [
    "# Celda 5: Calcular eigenvectores usando la pseudoinversa\n",
    "println(\"\\nCalculando eigenvectores con el método de la pseudoinversa:\")\n",
    "\n",
    "for lambda in D2_vals\n",
    "    println(\"\\nPara el eigenvalor λ = \", round(lambda, digits=4))\n",
    "    \n",
    "    # 1. Formar la matriz B = A - λI\n",
    "    B = A2 - lambda * I\n",
    "    \n",
    "    # 2. Calcular la pseudoinversa de B\n",
    "    B_pinv = pseudoinversa_full_rank(B)\n",
    "    \n",
    "    # 3. Calcular la matriz de proyección al espacio nulo: N = I - B†B\n",
    "    N = I - B_pinv * B\n",
    "    \n",
    "    # 4. Extraer un eigenvector (una columna no nula de N)\n",
    "    norms = [norm(N[:, i]) for i in 1:size(N, 2)]\n",
    "    _, max_idx = findmax(norms)\n",
    "    eigenvector = N[:, max_idx]\n",
    "    \n",
    "    # 5. Normalizar el vector\n",
    "    # Manejar el caso de un vector casi nulo por errores numéricos\n",
    "    if norm(eigenvector) > 1e-8\n",
    "        eigenvector_normalizado = eigenvector / norm(eigenvector)\n",
    "        println(\"  Eigenvector encontrado: \", round.(eigenvector_normalizado, digits=4))\n",
    "    else\n",
    "        println(\"  No se pudo extraer un eigenvector claro (posiblemente por precisión numérica).\")\n",
    "    end\n",
    "end\n",
    "\n",
    "println(\"\\n--- Verificación ---\")\n",
    "println(\"Eigenvectores calculados por la función `eigen` de Julia:\")\n",
    "display(round.(P2_vecs_reales, digits=4))"
   ]
  },
  {
   "cell_type": "code",
   "execution_count": 6,
   "id": "ab8581c3-e22b-4814-b236-fedca491e061",
   "metadata": {},
   "outputs": [
    {
     "name": "stdout",
     "output_type": "stream",
     "text": [
      "--- Análisis del Ejercicio 3 ---\n",
      "Matriz A:\n"
     ]
    },
    {
     "data": {
      "text/plain": [
       "3×3 Matrix{Float64}:\n",
       " 0.0  1.0  1.0\n",
       " 1.0  0.0  1.0\n",
       " 1.0  1.0  0.0"
      ]
     },
     "metadata": {},
     "output_type": "display_data"
    },
    {
     "name": "stdout",
     "output_type": "stream",
     "text": [
      "\n",
      "Eigenvalores encontrados: [-0.9999999999999999, -0.9999999999999982, 1.9999999999999998]\n"
     ]
    }
   ],
   "source": [
    "# Celda 6: Definir la matriz y obtener eigenvalores\n",
    "A3 = [0.0 1.0 1.0;\n",
    "      1.0 0.0 1.0;\n",
    "      1.0 1.0 0.0]\n",
    "\n",
    "# Usamos la función de Julia para obtener los valores de referencia\n",
    "D3_vals, P3_vecs_reales = eigen(A3)\n",
    "\n",
    "println(\"--- Análisis del Ejercicio 3 ---\")\n",
    "println(\"Matriz A:\")\n",
    "display(A3)\n",
    "# Usamos `unique` para manejar el eigenvalor repetido en el bucle\n",
    "println(\"\\nEigenvalores encontrados: \", unique(D3_vals))"
   ]
  },
  {
   "cell_type": "code",
   "execution_count": 7,
   "id": "ec2e6463-b40e-4ed5-8e8a-5e59c95671d4",
   "metadata": {},
   "outputs": [
    {
     "name": "stdout",
     "output_type": "stream",
     "text": [
      "\n",
      "Calculando eigenvectores con el método de la pseudoinversa:\n",
      "\n",
      "Para el eigenvalor λ = -1.0\n",
      "  Matriz de Proyección al Espacio Nulo (N = I - B†B):\n"
     ]
    },
    {
     "data": {
      "text/plain": [
       "3×3 Matrix{Float64}:\n",
       "  0.6667  -0.3333  -0.3333\n",
       " -0.3333   0.6667  -0.3333\n",
       " -0.3333  -0.3333   0.6667"
      ]
     },
     "metadata": {},
     "output_type": "display_data"
    },
    {
     "name": "stdout",
     "output_type": "stream",
     "text": [
      "  Base de eigenvectores encontrada:\n",
      "    v1 = [-0.8165, 0.4082, 0.4082]\n",
      "    v2 = [-0.0, -0.7071, 0.7071]\n",
      "\n",
      "Para el eigenvalor λ = -1.0\n",
      "  Matriz de Proyección al Espacio Nulo (N = I - B†B):\n"
     ]
    },
    {
     "data": {
      "text/plain": [
       "3×3 Matrix{Float64}:\n",
       "  0.6667  -0.3333  -0.3333\n",
       " -0.3333   0.6667  -0.3333\n",
       " -0.3333  -0.3333   0.6667"
      ]
     },
     "metadata": {},
     "output_type": "display_data"
    },
    {
     "name": "stdout",
     "output_type": "stream",
     "text": [
      "  Base de eigenvectores encontrada:\n",
      "    v1 = [-0.8165, 0.4082, 0.4082]\n",
      "    v2 = [-0.0, -0.7071, 0.7071]\n",
      "\n",
      "Para el eigenvalor λ = 2.0\n",
      "  Matriz de Proyección al Espacio Nulo (N = I - B†B):\n"
     ]
    },
    {
     "data": {
      "text/plain": [
       "3×3 Matrix{Float64}:\n",
       " 0.3333  0.3333  0.3333\n",
       " 0.3333  0.3333  0.3333\n",
       " 0.3333  0.3333  0.3333"
      ]
     },
     "metadata": {},
     "output_type": "display_data"
    },
    {
     "name": "stdout",
     "output_type": "stream",
     "text": [
      "  Base de eigenvectores encontrada:\n",
      "    v1 = [-0.5774, -0.5774, -0.5774]\n",
      "\n",
      "--- Verificación ---\n",
      "Eigenvectores calculados por la función `eigen` de Julia:\n"
     ]
    },
    {
     "data": {
      "text/plain": [
       "3×3 Matrix{Float64}:\n",
       "  0.7071  -0.4082  -0.5774\n",
       " -0.7071  -0.4082  -0.5774\n",
       "  0.0      0.8165  -0.5774"
      ]
     },
     "metadata": {},
     "output_type": "display_data"
    }
   ],
   "source": [
    "# Celda 7: Calcular eigenvectores para cada eigenvalor único\n",
    "println(\"\\nCalculando eigenvectores con el método de la pseudoinversa:\")\n",
    "\n",
    "for lambda in unique(D3_vals)\n",
    "    println(\"\\nPara el eigenvalor λ = \", round(lambda, digits=4))\n",
    "    \n",
    "    B = A3 - lambda * I\n",
    "    B_pinv = pseudoinversa_full_rank(B)\n",
    "    N = I - B_pinv * B\n",
    "    \n",
    "    println(\"  Matriz de Proyección al Espacio Nulo (N = I - B†B):\")\n",
    "    display(round.(N, digits=4))\n",
    "\n",
    "    # Extraemos los vectores base del espacio nulo desde las columnas de N\n",
    "    # Usamos `qr` para obtener una base ortonormal de las columnas de N,\n",
    "    # que es un método robusto para extraer la base del subespacio.\n",
    "    base_vectors = qr(N).Q[:, 1:rank(N)]\n",
    "    \n",
    "    println(\"  Base de eigenvectores encontrada:\")\n",
    "    for i in 1:size(base_vectors, 2)\n",
    "        eigenvector = base_vectors[:, i]\n",
    "        # La orientación puede ser opuesta (+/-), es igualmente válido\n",
    "        println(\"    v$i = \", round.(eigenvector, digits=4))\n",
    "    end\n",
    "end\n",
    "\n",
    "println(\"\\n--- Verificación ---\")\n",
    "println(\"Eigenvectores calculados por la función `eigen` de Julia:\")\n",
    "display(round.(P3_vecs_reales, digits=4))"
   ]
  },
  {
   "cell_type": "code",
   "execution_count": 8,
   "id": "53164f60-76d4-49bd-ad2c-783ab51c4b34",
   "metadata": {},
   "outputs": [
    {
     "name": "stdout",
     "output_type": "stream",
     "text": [
      "\n",
      "\n",
      "--- Análisis del Ejercicio 4 ---\n",
      "Matriz A:\n"
     ]
    },
    {
     "data": {
      "text/plain": [
       "3×3 Matrix{Float64}:\n",
       " 3.0   0.0  2.0\n",
       " 0.0  -1.0  0.0\n",
       " 2.0   0.0  0.0"
      ]
     },
     "metadata": {},
     "output_type": "display_data"
    },
    {
     "name": "stdout",
     "output_type": "stream",
     "text": [
      "\n",
      "Eigenvalores encontrados: [-1.0, -0.9999999999999964, 4.0]\n"
     ]
    }
   ],
   "source": [
    "# Celda 8: Definir la matriz y obtener eigenvalores\n",
    "A4 = [3.0 0.0 2.0;\n",
    "      0.0 -1.0 0.0;\n",
    "      2.0 0.0 0.0]\n",
    "\n",
    "D4_vals, P4_vecs_reales = eigen(A4)\n",
    "\n",
    "println(\"\\n\\n--- Análisis del Ejercicio 4 ---\")\n",
    "println(\"Matriz A:\")\n",
    "display(A4)\n",
    "println(\"\\nEigenvalores encontrados: \", unique(D4_vals))"
   ]
  },
  {
   "cell_type": "code",
   "execution_count": 9,
   "id": "7dc26852-8ee0-4428-8e9a-48d27f558903",
   "metadata": {},
   "outputs": [
    {
     "name": "stdout",
     "output_type": "stream",
     "text": [
      "\n",
      "Calculando eigenvectores con el método de la pseudoinversa:\n",
      "\n",
      "Para el eigenvalor λ = -1.0\n",
      "  Matriz de Proyección al Espacio Nulo (N = I - B†B):\n"
     ]
    },
    {
     "data": {
      "text/plain": [
       "3×3 Matrix{Float64}:\n",
       "  0.2  -0.0  -0.4\n",
       " -0.0   1.0  -0.0\n",
       " -0.4  -0.0   0.8"
      ]
     },
     "metadata": {},
     "output_type": "display_data"
    },
    {
     "name": "stdout",
     "output_type": "stream",
     "text": [
      "  Base de eigenvectores encontrada:\n",
      "    v1 = [-0.4472, 0.0, 0.8944]\n",
      "    v2 = [0.0, 1.0, 0.0]\n",
      "\n",
      "Para el eigenvalor λ = -1.0\n",
      "  Matriz de Proyección al Espacio Nulo (N = I - B†B):\n"
     ]
    },
    {
     "data": {
      "text/plain": [
       "3×3 Matrix{Float64}:\n",
       " -0.0312  -0.0   0.0156\n",
       " -0.0      0.0  -0.0\n",
       "  0.1875  -0.0   0.0312"
      ]
     },
     "metadata": {},
     "output_type": "display_data"
    },
    {
     "name": "stdout",
     "output_type": "stream",
     "text": [
      "  Base de eigenvectores encontrada:\n",
      "    v1 = [-0.1644, 0.0, 0.9864]\n",
      "    v2 = [0.0, 1.0, 0.0]\n",
      "\n",
      "Para el eigenvalor λ = 4.0\n",
      "  Matriz de Proyección al Espacio Nulo (N = I - B†B):\n"
     ]
    },
    {
     "data": {
      "text/plain": [
       "3×3 Matrix{Float64}:\n",
       "  0.8  -0.0   0.4\n",
       " -0.0   0.0  -0.0\n",
       "  0.4  -0.0   0.2"
      ]
     },
     "metadata": {},
     "output_type": "display_data"
    },
    {
     "name": "stdout",
     "output_type": "stream",
     "text": [
      "  Base de eigenvectores encontrada:\n",
      "    v1 = [-0.8944, 0.0, -0.4472]\n",
      "\n",
      "--- Verificación ---\n",
      "Eigenvectores calculados por la función `eigen` de Julia:\n"
     ]
    },
    {
     "data": {
      "text/plain": [
       "3×3 Matrix{Float64}:\n",
       "  0.0  -0.4472  -0.8944\n",
       " -1.0   0.0      0.0\n",
       "  0.0   0.8944  -0.4472"
      ]
     },
     "metadata": {},
     "output_type": "display_data"
    }
   ],
   "source": [
    "# Celda 9: Calcular eigenvectores usando la pseudoinversa\n",
    "println(\"\\nCalculando eigenvectores con el método de la pseudoinversa:\")\n",
    "\n",
    "for lambda in unique(D4_vals)\n",
    "    println(\"\\nPara el eigenvalor λ = \", round(lambda, digits=4))\n",
    "    \n",
    "    B = A4 - lambda * I\n",
    "    B_pinv = pseudoinversa_full_rank(B)\n",
    "    N = I - B_pinv * B\n",
    "    \n",
    "    println(\"  Matriz de Proyección al Espacio Nulo (N = I - B†B):\")\n",
    "    display(round.(N, digits=4))\n",
    "\n",
    "    # Extraemos la base ortonormal del espacio de columnas de N\n",
    "    base_vectors = qr(N).Q[:, 1:rank(N)]\n",
    "\n",
    "    println(\"  Base de eigenvectores encontrada:\")\n",
    "    for i in 1:size(base_vectors, 2)\n",
    "        eigenvector = base_vectors[:, i]\n",
    "        println(\"    v$i = \", round.(eigenvector, digits=4))\n",
    "    end\n",
    "end\n",
    "\n",
    "println(\"\\n--- Verificación ---\")\n",
    "println(\"Eigenvectores calculados por la función `eigen` de Julia:\")\n",
    "display(round.(P4_vecs_reales, digits=4))"
   ]
  },
  {
   "cell_type": "code",
   "execution_count": null,
   "id": "15a0ea56-5129-40ae-a658-ae1dd8c4cc0b",
   "metadata": {},
   "outputs": [],
   "source": []
  }
 ],
 "metadata": {
  "kernelspec": {
   "display_name": "Julia 1.11.6",
   "language": "julia",
   "name": "julia-1.11"
  },
  "language_info": {
   "file_extension": ".jl",
   "mimetype": "application/julia",
   "name": "julia",
   "version": "1.11.6"
  }
 },
 "nbformat": 4,
 "nbformat_minor": 5
}

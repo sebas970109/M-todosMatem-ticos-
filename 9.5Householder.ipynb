{
 "cells": [
  {
   "cell_type": "code",
   "execution_count": 1,
   "id": "f04bf01c-c7d5-436b-adcf-2869b9902109",
   "metadata": {},
   "outputs": [
    {
     "data": {
      "text/plain": [
       "householder_tridiagonal"
      ]
     },
     "execution_count": 1,
     "metadata": {},
     "output_type": "execute_result"
    }
   ],
   "source": [
    "using LinearAlgebra\n",
    "\n",
    "\"\"\"\n",
    "    householder_tridiagonal(A)\n",
    "\n",
    "Transforma una matriz simétrica A en una matriz tridiagonal simétrica T\n",
    "que es similar a A (conserva los mismos eigenvalores) utilizando el\n",
    "método de Householder.\n",
    "\n",
    "# Argumentos\n",
    "- `A::Matrix{Float64}`: La matriz simétrica n x n a transformar.\n",
    "\n",
    "# Retorna\n",
    "- `T::Matrix{Float64}`: La matriz tridiagonal simétrica resultante.\n",
    "\"\"\"\n",
    "function householder_tridiagonal(matrix::Matrix{Float64})\n",
    "    # Hacemos una copia para no modificar la matriz original\n",
    "    A = copy(matrix)\n",
    "    n = size(A, 1)\n",
    "\n",
    "    if size(A, 2) != n\n",
    "        error(\"La matriz de entrada debe ser cuadrada.\")\n",
    "    end\n",
    "    if !issymmetric(A)\n",
    "        error(\"La matriz de entrada no es simétrica.\")\n",
    "    end\n",
    "\n",
    "    println(\"--- Iniciando Método de Householder ---\")\n",
    "\n",
    "    # Paso 1: Bucle principal que itera sobre las columnas\n",
    "    for k in 1:(n-2)\n",
    "        # Paso 2: Calcular q\n",
    "        q = dot(A[(k+1):n, k], A[(k+1):n, k]) # Suma de cuadrados\n",
    "\n",
    "        # Paso 3: Calcular alpha\n",
    "        if A[k+1, k] ≈ 0.0\n",
    "            alpha = -sqrt(q)\n",
    "        else\n",
    "            alpha = -sqrt(q) * sign(A[k+1, k])\n",
    "        end\n",
    "\n",
    "        # Paso 4: Calcular RSQ\n",
    "        RSQ = alpha^2 - alpha * A[k+1, k]\n",
    "        \n",
    "        # Si RSQ es cero, la columna ya está reducida. Continuamos.\n",
    "        if RSQ ≈ 0.0\n",
    "            continue\n",
    "        end\n",
    "\n",
    "        # Paso 5: Determinar el vector v\n",
    "        v = zeros(n)\n",
    "        v[k+1] = A[k+1, k] - alpha\n",
    "        v[(k+2):n] = A[(k+2):n, k]\n",
    "\n",
    "        # Paso 6: Determinar el vector u = (1/RSQ) * A*v\n",
    "        u = (A * v) / RSQ\n",
    "        \n",
    "        # Paso 7: Calcular PROD = v' * u\n",
    "        # Solo se necesita la parte de v que no es cero.\n",
    "        PROD = dot(v, u)\n",
    "\n",
    "        # Paso 8: Determinar el vector z = u - (PROD / 2RSQ) * v\n",
    "        z = u - (PROD / (2 * RSQ)) * v\n",
    "\n",
    "        # Paso 9: Actualizar la matriz A -> A - v*z' - z*v'\n",
    "        # Esta operación matricial reemplaza los Pasos 10, 11 y 12.\n",
    "        A -= v * z' + z * v'\n",
    "    end\n",
    "    \n",
    "    # Limpieza final: debido a errores de punto flotante, los elementos que\n",
    "    # deberían ser cero pueden ser números muy pequeños. Los forzamos a ser cero.\n",
    "    for i in 1:n\n",
    "        for j in 1:n\n",
    "            if abs(i-j) > 1\n",
    "                A[i, j] = 0.0\n",
    "            end\n",
    "        end\n",
    "    end\n",
    "    \n",
    "    println(\"Tridiagonalización completada con éxito.\")\n",
    "    # Paso 15: SALIDA\n",
    "    return A\n",
    "end"
   ]
  },
  {
   "cell_type": "code",
   "execution_count": 2,
   "id": "5d048702-8213-487f-9633-125f33b71789",
   "metadata": {},
   "outputs": [
    {
     "name": "stdout",
     "output_type": "stream",
     "text": [
      "Matriz Original:\n"
     ]
    },
    {
     "data": {
      "text/plain": [
       "4×4 Matrix{Float64}:\n",
       "  4.0  1.0  -2.0   2.0\n",
       "  1.0  2.0   0.0   1.0\n",
       " -2.0  0.0   3.0  -2.0\n",
       "  2.0  1.0  -2.0  -1.0"
      ]
     },
     "metadata": {},
     "output_type": "display_data"
    },
    {
     "name": "stdout",
     "output_type": "stream",
     "text": [
      "--- Iniciando Método de Householder ---\n",
      "Tridiagonalización completada con éxito.\n",
      "\n",
      "Matriz Tridiagonal Resultante (T):\n"
     ]
    },
    {
     "data": {
      "text/plain": [
       "4×4 Matrix{Float64}:\n",
       "  4.0  -3.0       0.0       0.0\n",
       " -3.0   3.33333  -1.66667   0.0\n",
       "  0.0  -1.66667  -1.32      0.906667\n",
       "  0.0   0.0       0.906667  1.98667"
      ]
     },
     "metadata": {},
     "output_type": "display_data"
    },
    {
     "name": "stdout",
     "output_type": "stream",
     "text": [
      "\n",
      "--- Verificación de Similitud ---\n",
      "Eigenvalores de la matriz original A:\n"
     ]
    },
    {
     "data": {
      "text/plain": [
       "4-element Vector{Float64}:\n",
       " -2.1975169774394243\n",
       "  1.0843644637732177\n",
       "  2.26853140643124\n",
       "  6.844621107234968"
      ]
     },
     "metadata": {},
     "output_type": "display_data"
    },
    {
     "name": "stdout",
     "output_type": "stream",
     "text": [
      "\n",
      "Eigenvalores de la matriz tridiagonal T:\n"
     ]
    },
    {
     "data": {
      "text/plain": [
       "4-element Vector{Float64}:\n",
       " -2.197516977439425\n",
       "  1.0843644637732168\n",
       "  2.268531406431242\n",
       "  6.844621107234966"
      ]
     },
     "metadata": {},
     "output_type": "display_data"
    },
    {
     "name": "stdout",
     "output_type": "stream",
     "text": [
      "\n",
      "✅ Verificación exitosa: Los eigenvalores se conservan.\n"
     ]
    }
   ],
   "source": [
    "# Matriz simétrica de entrada\n",
    "A_original = [ 4.0  1.0 -2.0  2.0;\n",
    "               1.0  2.0  0.0  1.0;\n",
    "              -2.0  0.0  3.0 -2.0;\n",
    "               2.0  1.0 -2.0 -1.0]\n",
    "\n",
    "println(\"Matriz Original:\")\n",
    "display(A_original)\n",
    "\n",
    "# Aplicamos el algoritmo\n",
    "T = householder_tridiagonal(A_original)\n",
    "\n",
    "println(\"\\nMatriz Tridiagonal Resultante (T):\")\n",
    "display(T)\n",
    "\n",
    "\n",
    "# --- Verificación de Eigenvalores ---\n",
    "# La propiedad más importante de esta transformación es que conserva los eigenvalores.\n",
    "eigen_original = eigvals(A_original)\n",
    "eigen_tridiagonal = eigvals(T)\n",
    "\n",
    "println(\"\\n--- Verificación de Similitud ---\")\n",
    "println(\"Eigenvalores de la matriz original A:\")\n",
    "display(sort(eigen_original))\n",
    "println(\"\\nEigenvalores de la matriz tridiagonal T:\")\n",
    "display(sort(eigen_tridiagonal))\n",
    "\n",
    "if isapprox(sort(eigen_original), sort(eigen_tridiagonal))\n",
    "    println(\"\\n✅ Verificación exitosa: Los eigenvalores se conservan.\")\n",
    "else\n",
    "    println(\"\\n❌ Error en la verificación: Los eigenvalores no coinciden.\")\n",
    "end"
   ]
  },
  {
   "cell_type": "code",
   "execution_count": null,
   "id": "b13a215b-1ee4-4860-9800-fbd1bfa34444",
   "metadata": {},
   "outputs": [],
   "source": []
  }
 ],
 "metadata": {
  "kernelspec": {
   "display_name": "Julia 1.11.6",
   "language": "julia",
   "name": "julia-1.11"
  },
  "language_info": {
   "file_extension": ".jl",
   "mimetype": "application/julia",
   "name": "julia",
   "version": "1.11.6"
  }
 },
 "nbformat": 4,
 "nbformat_minor": 5
}

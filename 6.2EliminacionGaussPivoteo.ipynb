{
 "cells": [
  {
   "cell_type": "code",
   "execution_count": 1,
   "id": "ab545902-0710-453f-a71d-7ba66e1248c6",
   "metadata": {},
   "outputs": [
    {
     "data": {
      "text/plain": [
       "eliminacion_gaussiana_pivoteo_parcial"
      ]
     },
     "execution_count": 1,
     "metadata": {},
     "output_type": "execute_result"
    }
   ],
   "source": [
    "using LinearAlgebra\n",
    "\n",
    "\"\"\"\n",
    "    eliminacion_gaussiana_pivoteo_parcial(A_aumentada)\n",
    "\n",
    "Resuelve un sistema de ecuaciones lineales n x n utilizando el algoritmo de\n",
    "eliminación gaussiana con pivoteo parcial y seguimiento de filas simulado.\n",
    "\n",
    "# Argumentos\n",
    "- `A_aumentada::Matrix{Float64}`: La matriz aumentada del sistema [A|b] de\n",
    "  tamaño n x (n+1).\n",
    "\n",
    "# Retorna\n",
    "- `Vector{Float64}`: El vector de solución `x` si existe una solución única.\n",
    "- `nothing`: Si el sistema no tiene una solución única, e imprime un mensaje.\n",
    "\"\"\"\n",
    "function eliminacion_gaussiana_pivoteo_parcial(A_aumentada::Matrix{Float64})\n",
    "    # Hacemos una copia para no modificar la matriz original\n",
    "    A = copy(A_aumentada)\n",
    "    n = size(A, 1) # Número de ecuaciones\n",
    "\n",
    "    # Paso 1: Inicializar el vector de índices de fila\n",
    "    NROW = collect(1:n)\n",
    "\n",
    "    println(\"--- Iniciando Eliminación Gaussiana con Pivoteo Parcial ---\")\n",
    "    println(\"Matriz Original:\")\n",
    "    display(A)\n",
    "    println()\n",
    "\n",
    "    # --- PROCESO DE ELIMINACIÓN ---\n",
    "\n",
    "    # Paso 2: Bucle principal para cada columna/pivote\n",
    "    for i in 1:(n-1)\n",
    "        # Paso 3: Encontrar la fila 'p' con el máximo pivote en la columna 'i'\n",
    "        # Buscamos desde la fila i hasta la n\n",
    "        vals_columna = abs.(A[NROW[i:n], i])\n",
    "        _, p_local = findmax(vals_columna)\n",
    "        p = i + p_local - 1 # Ajustamos el índice al vector NROW completo\n",
    "\n",
    "        # Paso 4: Verificar si el pivote máximo es cero\n",
    "        if A[NROW[p], i] == 0\n",
    "            println(\"Error: No existe una solución única.\")\n",
    "            return nothing # SALIDA\n",
    "        end\n",
    "\n",
    "        # Paso 5: Intercambio de fila simulado (si es necesario)\n",
    "        if NROW[i] != NROW[p]\n",
    "            println(\"Pivote en columna $i: |$(A[NROW[p], i])|. Intercambiando (simulado) fila $i con $p.\")\n",
    "            NROW[i], NROW[p] = NROW[p], NROW[i]\n",
    "        end\n",
    "        \n",
    "        # Paso 6: Bucle para las filas debajo del pivote\n",
    "        for j in (i+1):n\n",
    "            # Paso 7: Calcular el multiplicador\n",
    "            m = A[NROW[j], i] / A[NROW[i], i]\n",
    "\n",
    "            # Paso 8: Ejecutar la eliminación en la fila j\n",
    "            # Se actualiza la fila real en la matriz A, usando los índices de NROW\n",
    "            A[NROW[j], :] .-= m .* A[NROW[i], :]\n",
    "        end\n",
    "    end\n",
    "    \n",
    "    println(\"\\n--- Matriz Modificada (forma triangular superior, filas desordenadas) ---\")\n",
    "    display(A)\n",
    "    println(\"\\nOrden final de las filas (NROW): \", NROW)\n",
    "    println()\n",
    "\n",
    "\n",
    "    # Paso 9: Verificar si existe una solución única después de la eliminación\n",
    "    if A[NROW[n], n] == 0\n",
    "        println(\"Error: No existe una solución única.\")\n",
    "        return nothing # SALIDA\n",
    "    end\n",
    "\n",
    "    # --- INICIA SUSTITUCIÓN HACIA ATRÁS ---\n",
    "\n",
    "    x = zeros(Float64, n)\n",
    "\n",
    "    # Paso 10: Determinar x_n\n",
    "    x[n] = A[NROW[n], n+1] / A[NROW[n], n]\n",
    "\n",
    "    # Paso 11: Bucle hacia atrás para las demás incógnitas\n",
    "    for i in (n-1):-1:1\n",
    "        # Sumatoria de a_ij * x_j usando los índices de NROW\n",
    "        suma = dot(A[NROW[i], (i+1):n], x[(i+1):n])\n",
    "        \n",
    "        x[i] = (A[NROW[i], n+1] - suma) / A[NROW[i], i]\n",
    "    end\n",
    "\n",
    "    # Paso 12: Devolver la solución\n",
    "    println(\"--- Procedimiento completado con éxito ---\")\n",
    "    return x # SALIDA\n",
    "end"
   ]
  },
  {
   "cell_type": "code",
   "execution_count": 2,
   "id": "1a2bfcfa-9c91-400f-a659-7857ffea6ee5",
   "metadata": {},
   "outputs": [
    {
     "name": "stdout",
     "output_type": "stream",
     "text": [
      "--- Iniciando Eliminación Gaussiana con Pivoteo Parcial ---\n",
      "Matriz Original:\n"
     ]
    },
    {
     "data": {
      "text/plain": [
       "3×4 Matrix{Float64}:\n",
       " 0.0  2.0   1.0  5.0\n",
       " 4.0  1.0  -1.0  3.0\n",
       " 1.0  1.0   3.0  6.0"
      ]
     },
     "metadata": {},
     "output_type": "display_data"
    },
    {
     "name": "stdout",
     "output_type": "stream",
     "text": [
      "\n",
      "Pivote en columna 1: |4.0|. Intercambiando (simulado) fila 1 con 2.\n",
      "\n",
      "--- Matriz Modificada (forma triangular superior, filas desordenadas) ---\n"
     ]
    },
    {
     "data": {
      "text/plain": [
       "3×4 Matrix{Float64}:\n",
       " 0.0  2.0   1.0    5.0\n",
       " 4.0  1.0  -1.0    3.0\n",
       " 0.0  0.0   2.875  3.375"
      ]
     },
     "metadata": {},
     "output_type": "display_data"
    },
    {
     "name": "stdout",
     "output_type": "stream",
     "text": [
      "\n",
      "Orden final de las filas (NROW): [2, 1, 3]\n",
      "\n",
      "--- Procedimiento completado con éxito ---\n",
      "\n",
      "La solución del sistema es:\n",
      "x₁ = 0.5652\n",
      "x₂ = 1.913\n",
      "x₃ = 1.1739\n",
      "\n",
      "Verificación A*x (debe ser aprox. igual a b):\n"
     ]
    },
    {
     "data": {
      "text/plain": [
       "3-element Vector{Float64}:\n",
       " 5.0\n",
       " 3.000000000000001\n",
       " 6.000000000000001"
      ]
     },
     "metadata": {},
     "output_type": "display_data"
    }
   ],
   "source": [
    "# Sistema de ecuaciones:\n",
    "# 0x₁ + 2x₂ + 1x₃ = 5\n",
    "# 4x₁ + 1x₂ - 1x₃ = 3\n",
    "# 1x₁ + 1x₂ + 3x₃ = 6\n",
    "\n",
    "# Matriz aumentada [A|b]\n",
    "matriz_problematica = [0.0 2.0 1.0 5.0;\n",
    "                       4.0 1.0 -1.0 3.0;\n",
    "                       1.0 1.0 3.0 6.0]\n",
    "\n",
    "# Llamamos a la función\n",
    "solucion = eliminacion_gaussiana_pivoteo_parcial(matriz_problematica)\n",
    "\n",
    "# Imprimimos el resultado si existe\n",
    "if solucion !== nothing\n",
    "    println(\"\\nLa solución del sistema es:\")\n",
    "    println(\"x₁ = \", round(solucion[1], digits=4))\n",
    "    println(\"x₂ = \", round(solucion[2], digits=4))\n",
    "    println(\"x₃ = \", round(solucion[3], digits=4))\n",
    "\n",
    "    # Verificación\n",
    "    println(\"\\nVerificación A*x (debe ser aprox. igual a b):\")\n",
    "    b_calculado = matriz_problematica[:, 1:3] * solucion\n",
    "    display(b_calculado)\n",
    "end"
   ]
  },
  {
   "cell_type": "code",
   "execution_count": null,
   "id": "22073174-0e9e-4b93-9a0f-d016cd132bd8",
   "metadata": {},
   "outputs": [],
   "source": []
  }
 ],
 "metadata": {
  "kernelspec": {
   "display_name": "Julia 1.11.6",
   "language": "julia",
   "name": "julia-1.11"
  },
  "language_info": {
   "file_extension": ".jl",
   "mimetype": "application/julia",
   "name": "julia",
   "version": "1.11.6"
  }
 },
 "nbformat": 4,
 "nbformat_minor": 5
}

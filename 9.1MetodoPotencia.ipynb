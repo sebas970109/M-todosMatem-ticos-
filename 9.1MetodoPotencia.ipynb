{
 "cells": [
  {
   "cell_type": "code",
   "execution_count": 1,
   "id": "6b79cb54-9d90-4704-b74d-506783a89eb7",
   "metadata": {},
   "outputs": [
    {
     "data": {
      "text/plain": [
       "metodo_de_potencia"
      ]
     },
     "execution_count": 1,
     "metadata": {},
     "output_type": "execute_result"
    }
   ],
   "source": [
    "using LinearAlgebra\n",
    "\n",
    "\"\"\"\n",
    "    metodo_de_potencia(A, x, TOL, N)\n",
    "\n",
    "Aproxima el eigenvalor dominante y el eigenvector asociado de una matriz A\n",
    "utilizando el Método de Potencia con la norma infinito.\n",
    "\n",
    "# Argumentos\n",
    "- `A::AbstractMatrix`: La matriz n x n.\n",
    "- `x::AbstractVector`: Un vector inicial diferente de cero.\n",
    "- `TOL::Real`: La tolerancia para el criterio de convergencia.\n",
    "- `N::Int`: El número máximo de iteraciones permitidas.\n",
    "\n",
    "# Retorna\n",
    "- Una tupla `(μ, x)` con el eigenvalor aproximado `μ` y el eigenvector `x`.\n",
    "- `nothing` si el método no converge o encuentra un problema.\n",
    "\"\"\"\n",
    "function metodo_de_potencia(A::AbstractMatrix, x_inicial::AbstractVector, TOL::Real, N::Int)\n",
    "    \n",
    "    println(\"--- Iniciando Método de Potencia ---\")\n",
    "    \n",
    "    # Hacemos una copia para no modificar el vector original\n",
    "    x = copy(convert(Vector{Float64}, x_inicial))\n",
    "\n",
    "    # Paso 1: Inicializar contador\n",
    "    k = 1\n",
    "    \n",
    "    # Paso 2: Encontrar el índice del máximo valor absoluto en x\n",
    "    valor_max, p = findmax(abs.(x))\n",
    "    \n",
    "    # Paso 3: Normalizar el vector inicial x\n",
    "    x = x / x[p]\n",
    "    \n",
    "    # Paso 4: Bucle principal de iteraciones\n",
    "    while k <= N\n",
    "        # Paso 5: Aplicar la iteración de potencia\n",
    "        y = A * x\n",
    "        \n",
    "        # Paso 6: Aproximar el eigenvalor μ\n",
    "        μ = y[p]\n",
    "        \n",
    "        # Paso 7: Encontrar el índice del máximo valor absoluto en y\n",
    "        valor_y_p, p = findmax(abs.(y))\n",
    "        \n",
    "        # Paso 8: Verificar si el eigenvalor es cero\n",
    "        if valor_y_p == 0\n",
    "            println(\"A tiene un eigenvalor de 0. El eigenvector encontrado es:\")\n",
    "            display(x)\n",
    "            return (0.0, x)\n",
    "        end\n",
    "        \n",
    "        # Paso 9: Calcular el error y actualizar el vector x\n",
    "        ERR = norm(x - (y / y[p]), Inf)\n",
    "        x = y / y[p]\n",
    "\n",
    "        println(\"Iteración $k: Eigenvalor ≈ $μ, Error = $ERR\")\n",
    "        \n",
    "        # Paso 10: Criterio de convergencia\n",
    "        if ERR < TOL\n",
    "            println(\"\\nProcedimiento exitoso. Convergencia alcanzada.\")\n",
    "            return (μ, x)\n",
    "        end\n",
    "        \n",
    "        # Paso 11: Incrementar el contador\n",
    "        k += 1\n",
    "    end\n",
    "    \n",
    "    # Paso 12: Mensaje si se excede el número de iteraciones\n",
    "    println(\"\\nEl número máximo de iteraciones ($N) fue excedido. El procedimiento no fue exitoso.\")\n",
    "    return (μ, x) # Devuelve la última aproximación\n",
    "end"
   ]
  },
  {
   "cell_type": "code",
   "execution_count": 2,
   "id": "be4637c5-fafd-4b69-8c7e-7a1696ebb453",
   "metadata": {},
   "outputs": [
    {
     "name": "stdout",
     "output_type": "stream",
     "text": [
      "--- Iniciando Método de Potencia ---\n",
      "Iteración 1: Eigenvalor ≈ 4.0, Error = 1.0\n",
      "Iteración 2: Eigenvalor ≈ 4.5, Error = 0.4444444444444444\n",
      "Iteración 3: Eigenvalor ≈ 5.0, Error = 0.24444444444444446\n",
      "Iteración 4: Eigenvalor ≈ 5.4, Error = 0.14238683127572016\n",
      "Iteración 5: Eigenvalor ≈ 5.666666666666666, Error = 0.08012587751149858\n",
      "Iteración 6: Eigenvalor ≈ 5.823529411764706, Error = 0.0430815049551434\n",
      "Iteración 7: Eigenvalor ≈ 5.909090909090909, Error = 0.022429422429422363\n",
      "Iteración 8: Eigenvalor ≈ 5.953846153846154, Error = 0.0114577956859514\n",
      "Iteración 9: Eigenvalor ≈ 5.976744186046512, Error = 0.005792806849114096\n",
      "Iteración 10: Eigenvalor ≈ 5.988326848249027, Error = 0.0029128462782734843\n",
      "Iteración 11: Eigenvalor ≈ 5.994152046783626, Error = 0.0014606032308229766\n",
      "Iteración 12: Eigenvalor ≈ 5.997073170731708, Error = 0.0007313570959871507\n",
      "Iteración 13: Eigenvalor ≈ 5.998535871156661, Error = 0.0003659440171814854\n",
      "Iteración 14: Eigenvalor ≈ 5.99926775689529, Error = 0.00018303862398150184\n",
      "Iteración 15: Eigenvalor ≈ 5.9996338337605275, Error = 9.153600485378721e-5\n",
      "Iteración 16: Eigenvalor ≈ 5.999816905706439, Error = 4.57721818509782e-5\n",
      "Iteración 17: Eigenvalor ≈ 5.9999084500595075, Error = 2.288713677933707e-5\n",
      "Iteración 18: Eigenvalor ≈ 5.999954224331294, Error = 1.1443830014723488e-5\n",
      "Iteración 19: Eigenvalor ≈ 5.999977111991028, Error = 5.721980440021035e-6\n",
      "\n",
      "Procedimiento exitoso. Convergencia alcanzada.\n",
      "\n",
      "--- RESULTADO FINAL ---\n",
      "Eigenvalor dominante aproximado (μ): 5.999977111991028\n",
      "Eigenvector asociado (x):\n"
     ]
    },
    {
     "data": {
      "text/plain": [
       "3-element Vector{Float64}:\n",
       "  1.0\n",
       " -0.9999942779759243\n",
       "  0.9999942779759343"
      ]
     },
     "metadata": {},
     "output_type": "display_data"
    },
    {
     "name": "stdout",
     "output_type": "stream",
     "text": [
      "\n",
      "Verificación (A*x ≈ μ*x):\n",
      "A * x ≈ [5.999988555951859, -5.999971389879642, 5.999971389879652]\n",
      "μ * x ≈ [5.999977111991028, -5.99994277997754, 5.9999427799776]\n"
     ]
    }
   ],
   "source": [
    "# Matriz para la cual queremos encontrar el eigenvalor dominante\n",
    "# Sus eigenvalores son 6, 3 y -2. El dominante es 6.\n",
    "A = [ 4.0  -1.0   1.0;\n",
    "     -1.0   3.0  -2.0;\n",
    "      1.0  -2.0   3.0]\n",
    "\n",
    "# Vector inicial arbitrario\n",
    "x_inicial = [1.0, 1.0, 1.0]\n",
    "\n",
    "# Parámetros de control\n",
    "tolerancia = 1e-5\n",
    "max_iteraciones = 50\n",
    "\n",
    "# Llamamos a la función\n",
    "resultado = metodo_de_potencia(A, x_inicial, tolerancia, max_iteraciones)\n",
    "\n",
    "if resultado !== nothing\n",
    "    μ_aprox, x_aprox = resultado\n",
    "    \n",
    "    println(\"\\n--- RESULTADO FINAL ---\")\n",
    "    println(\"Eigenvalor dominante aproximado (μ): \", μ_aprox)\n",
    "    println(\"Eigenvector asociado (x):\")\n",
    "    display(x_aprox)\n",
    "    \n",
    "    # --- Verificación ---\n",
    "    println(\"\\nVerificación (A*x ≈ μ*x):\")\n",
    "    println(\"A * x ≈ \", A * x_aprox)\n",
    "    println(\"μ * x ≈ \", μ_aprox * x_aprox)\n",
    "end"
   ]
  },
  {
   "cell_type": "code",
   "execution_count": null,
   "id": "570031dc-be11-4784-ad6c-bedbed36b271",
   "metadata": {},
   "outputs": [],
   "source": []
  }
 ],
 "metadata": {
  "kernelspec": {
   "display_name": "Julia 1.11.6",
   "language": "julia",
   "name": "julia-1.11"
  },
  "language_info": {
   "file_extension": ".jl",
   "mimetype": "application/julia",
   "name": "julia",
   "version": "1.11.6"
  }
 },
 "nbformat": 4,
 "nbformat_minor": 5
}

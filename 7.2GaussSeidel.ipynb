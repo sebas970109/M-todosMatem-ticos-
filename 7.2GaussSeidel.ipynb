{
 "cells": [
  {
   "cell_type": "code",
   "execution_count": 1,
   "id": "b1eedd68-6e55-44b3-ae43-40de55a05930",
   "metadata": {},
   "outputs": [
    {
     "data": {
      "text/plain": [
       "metodo_gauss_seidel"
      ]
     },
     "execution_count": 1,
     "metadata": {},
     "output_type": "execute_result"
    }
   ],
   "source": [
    "using LinearAlgebra\n",
    "\n",
    "\"\"\"\n",
    "    metodo_gauss_seidel(A, b, x0; tol=1e-5, max_iter=100)\n",
    "\n",
    "Resuelve el sistema de ecuaciones lineales Ax = b utilizando el método\n",
    "iterativo de Gauss-Seidel, a partir de una aproximación inicial x0.\n",
    "\n",
    "# Argumentos\n",
    "- `A::Matrix{Float64}`: Matriz de coeficientes n x n.\n",
    "- `b::Vector{Float64}`: Vector de términos independientes.\n",
    "- `x0::Vector{Float64}`: Vector de aproximación inicial.\n",
    "\n",
    "# Argumentos Opcionales\n",
    "- `tol::Float64`: Tolerancia para el criterio de convergencia.\n",
    "- `max_iter::Int`: Número máximo de iteraciones permitidas.\n",
    "\n",
    "# Retorna\n",
    "- `Vector{Float64}`: El vector de solución `x`, o la última aproximación si no converge.\n",
    "\"\"\"\n",
    "function metodo_gauss_seidel(A::Matrix{Float64}, b::Vector{Float64}, x0::Vector{Float64}; \n",
    "                              tol::Float64=1e-5, max_iter::Int=100)\n",
    "    \n",
    "    n = size(A, 1)\n",
    "\n",
    "    if any(isapprox.(diag(A), 0))\n",
    "        error(\"Se encontró un cero en la diagonal. El método no es aplicable.\")\n",
    "    end\n",
    "\n",
    "    x = copy(x0) # Vector que se actualizará en cada iteración\n",
    "\n",
    "    println(\"--- Iniciando Método de Gauss-Seidel ---\")\n",
    "\n",
    "    # Paso 1: Inicializar el contador de iteraciones\n",
    "    k = 1\n",
    "\n",
    "    # Paso 2: Bucle principal de iteraciones\n",
    "    while k <= max_iter\n",
    "        # Guardamos una copia del vector ANTES de la iteración para el criterio de parada\n",
    "        xo = copy(x)\n",
    "\n",
    "        # Paso 3: Calcular cada componente de la nueva aproximación\n",
    "        for i in 1:n\n",
    "            # Suma de aᵢⱼ * xⱼ para j < i (usa los valores ya actualizados de x)\n",
    "            suma1 = dot(A[i, 1:(i-1)], x[1:(i-1)])\n",
    "            \n",
    "            # Suma de aᵢⱼ * xⱼ para j > i (usa los valores de la iteración anterior)\n",
    "            suma2 = dot(A[i, (i+1):n], xo[(i+1):n])\n",
    "            \n",
    "            # Despejamos y actualizamos x[i] inmediatamente\n",
    "            x[i] = (b[i] - suma1 - suma2) / A[i, i]\n",
    "        end\n",
    "\n",
    "        # Paso 4: Criterio de convergencia\n",
    "        error_estimado = norm(x - xo)\n",
    "        println(\"Iteración $k: Error = $error_estimado\")\n",
    "\n",
    "        if error_estimado < tol\n",
    "            println(\"\\nProcedimiento exitoso: Convergencia alcanzada en $k iteraciones.\")\n",
    "            return x # SALIDA\n",
    "        end\n",
    "\n",
    "        # Paso 5: Incrementar el contador\n",
    "        k += 1\n",
    "\n",
    "        # Paso 6: Actualizar XO ya se hizo implícitamente al inicio del bucle\n",
    "    end\n",
    "\n",
    "    # Paso 7: Mensaje si se excede el número de iteraciones\n",
    "    println(\"\\nProcedimiento no exitoso: Se excedió el número máximo de iteraciones ($max_iter).\")\n",
    "    return x\n",
    "end"
   ]
  },
  {
   "cell_type": "code",
   "execution_count": 2,
   "id": "3922b151-59ab-4d7f-828d-7deac8c0b128",
   "metadata": {},
   "outputs": [
    {
     "name": "stdout",
     "output_type": "stream",
     "text": [
      "--- Iniciando Método de Gauss-Seidel ---\n",
      "Iteración 1: Error = 2.742864757228523\n",
      "Iteración 2: Error = 0.5302971831879821\n",
      "Iteración 3: Error = 0.044830810568892175\n",
      "Iteración 4: Error = 0.007109620693563844\n",
      "Iteración 5: Error = 0.0008743589512860802\n",
      "Iteración 6: Error = 9.062087893700401e-5\n",
      "Iteración 7: Error = 8.219392164999539e-6\n",
      "Iteración 8: Error = 6.539341072741501e-7\n",
      "Iteración 9: Error = 4.4233701694032134e-8\n",
      "\n",
      "Procedimiento exitoso: Convergencia alcanzada en 9 iteraciones.\n",
      "\n",
      "--- Solución Aproximada ---\n"
     ]
    },
    {
     "data": {
      "text/plain": [
       "4-element Vector{Float64}:\n",
       "  1.0\n",
       "  2.0\n",
       " -1.0\n",
       "  1.0"
      ]
     },
     "metadata": {},
     "output_type": "display_data"
    },
    {
     "name": "stdout",
     "output_type": "stream",
     "text": [
      "\n",
      "--- Verificación: A * x ---\n",
      "El resultado de A*x es:\n"
     ]
    },
    {
     "data": {
      "text/plain": [
       "4-element Vector{Float64}:\n",
       "   6.0\n",
       "  25.0\n",
       " -11.0\n",
       "  15.0"
      ]
     },
     "metadata": {},
     "output_type": "display_data"
    }
   ],
   "source": [
    "# Matriz de coeficientes (diagonalmente dominante)\n",
    "A = [10.0 -1.0  2.0  0.0;\n",
    "     -1.0 11.0 -1.0  3.0;\n",
    "      2.0 -1.0 10.0 -1.0;\n",
    "      0.0  3.0 -1.0  8.0]\n",
    "\n",
    "# Vector de términos independientes\n",
    "b = [6.0, 25.0, -11.0, 15.0]\n",
    "\n",
    "# Aproximación inicial\n",
    "x_inicial = [0.0, 0.0, 0.0, 0.0]\n",
    "\n",
    "# Llamamos a la función\n",
    "solucion = metodo_gauss_seidel(A, b, x_inicial, tol=1e-7, max_iter=50)\n",
    "\n",
    "println(\"\\n--- Solución Aproximada ---\")\n",
    "display(round.(solucion, digits=5))\n",
    "\n",
    "# --- Verificación ---\n",
    "println(\"\\n--- Verificación: A * x ---\")\n",
    "b_calculado = A * solucion\n",
    "println(\"El resultado de A*x es:\")\n",
    "display(round.(b_calculado, digits=5))"
   ]
  },
  {
   "cell_type": "code",
   "execution_count": null,
   "id": "1f9afccb-13df-4ecb-b130-d2d1bb4df19a",
   "metadata": {},
   "outputs": [],
   "source": []
  }
 ],
 "metadata": {
  "kernelspec": {
   "display_name": "Julia 1.11.6",
   "language": "julia",
   "name": "julia-1.11"
  },
  "language_info": {
   "file_extension": ".jl",
   "mimetype": "application/julia",
   "name": "julia",
   "version": "1.11.6"
  }
 },
 "nbformat": 4,
 "nbformat_minor": 5
}

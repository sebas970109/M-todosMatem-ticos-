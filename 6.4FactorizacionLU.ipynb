{
 "cells": [
  {
   "cell_type": "code",
   "execution_count": 1,
   "id": "f23be843-5b82-4ca1-8a39-b6a8405e8409",
   "metadata": {},
   "outputs": [
    {
     "data": {
      "text/plain": [
       "factorizacion_lu_doolittle"
      ]
     },
     "execution_count": 1,
     "metadata": {},
     "output_type": "execute_result"
    }
   ],
   "source": [
    "using LinearAlgebra\n",
    "\n",
    "\"\"\"\n",
    "    factorizacion_lu_doolittle(A)\n",
    "\n",
    "Calcula la factorización LU de una matriz cuadrada A (A = LU) utilizando el\n",
    "método de Doolittle, donde la matriz L tiene unos en su diagonal.\n",
    "\n",
    "# Argumentos\n",
    "- `A::Matrix{Float64}`: La matriz cuadrada n x n a factorizar.\n",
    "\n",
    "# Retorna\n",
    "- `(L, U)`: Una tupla conteniendo las matrices L (triangular inferior) y U\n",
    "  (triangular superior).\n",
    "- `nothing`: Si la factorización no es posible (un pivote es cero).\n",
    "\"\"\"\n",
    "function factorizacion_lu_doolittle(A::Matrix{Float64})\n",
    "    n = size(A, 1)\n",
    "    if size(A, 2) != n\n",
    "        error(\"La matriz de entrada debe ser cuadrada.\")\n",
    "    end\n",
    "\n",
    "    L = Matrix{Float64}(I, n, n) # Matriz identidad para L (l_ii = 1)\n",
    "    U = zeros(Float64, n, n)    # Matriz de ceros para U\n",
    "\n",
    "    # Bucle principal que combina los pasos del algoritmo\n",
    "    for i in 1:n\n",
    "        # --- Cálculo de la fila i de U ---\n",
    "        # Corresponde a Pasos 1, 4, 5 y 6 para U\n",
    "        for j in i:n\n",
    "            suma = dot(L[i, 1:(i-1)], U[1:(i-1), j])\n",
    "            U[i, j] = A[i, j] - suma\n",
    "        end\n",
    "\n",
    "        # --- Verificación de Pivote ---\n",
    "        # Implícito en Pasos 1, 4 y 6\n",
    "        if U[i, i] == 0\n",
    "            println(\"Factorización imposible: se encontró un pivote cero en la posición ($i, $i).\")\n",
    "            # El Paso 6 nota que si U[n,n]==0, A es singular.\n",
    "            if i == n\n",
    "                 println(\"La matriz A es singular.\")\n",
    "            end\n",
    "            return nothing # SALIDA\n",
    "        end\n",
    "\n",
    "        # --- Cálculo de la columna i de L ---\n",
    "        # Corresponde a Pasos 2 y 5 para L\n",
    "        if i < n\n",
    "            for j in (i+1):n\n",
    "                suma = dot(L[j, 1:(i-1)], U[1:(i-1), i])\n",
    "                L[j, i] = (A[j, i] - suma) / U[i, i]\n",
    "            end\n",
    "        end\n",
    "    end\n",
    "\n",
    "    # Paso 7: Devolver las matrices L y U\n",
    "    println(\"Procedimiento completado con éxito.\")\n",
    "    return (L, U)\n",
    "end"
   ]
  },
  {
   "cell_type": "code",
   "execution_count": 2,
   "id": "aaae9c5c-9965-494d-9e80-3cb8518c8ef3",
   "metadata": {},
   "outputs": [
    {
     "name": "stdout",
     "output_type": "stream",
     "text": [
      "--- Factorización LU de la Matriz A ---\n",
      "Matriz A:\n"
     ]
    },
    {
     "data": {
      "text/plain": [
       "3×3 Matrix{Float64}:\n",
       "  2.0   1.0  -1.0\n",
       " -3.0  -1.0   2.0\n",
       " -2.0   1.0   2.0"
      ]
     },
     "metadata": {},
     "output_type": "display_data"
    },
    {
     "name": "stdout",
     "output_type": "stream",
     "text": [
      "\n",
      "Procedimiento completado con éxito.\n",
      "\n",
      "Matriz L (Triangular Inferior):\n"
     ]
    },
    {
     "data": {
      "text/plain": [
       "3×3 Matrix{Float64}:\n",
       "  1.0  0.0  0.0\n",
       " -1.5  1.0  0.0\n",
       " -1.0  4.0  1.0"
      ]
     },
     "metadata": {},
     "output_type": "display_data"
    },
    {
     "name": "stdout",
     "output_type": "stream",
     "text": [
      "\n",
      "Matriz U (Triangular Superior):\n"
     ]
    },
    {
     "data": {
      "text/plain": [
       "3×3 Matrix{Float64}:\n",
       " 2.0  1.0  -1.0\n",
       " 0.0  0.5   0.5\n",
       " 0.0  0.0  -1.0"
      ]
     },
     "metadata": {},
     "output_type": "display_data"
    },
    {
     "name": "stdout",
     "output_type": "stream",
     "text": [
      "\n",
      "--- Verificación: L * U ---\n"
     ]
    },
    {
     "data": {
      "text/plain": [
       "3×3 Matrix{Float64}:\n",
       "  2.0   1.0  -1.0\n",
       " -3.0  -1.0   2.0\n",
       " -2.0   1.0   2.0"
      ]
     },
     "metadata": {},
     "output_type": "display_data"
    },
    {
     "name": "stdout",
     "output_type": "stream",
     "text": [
      "\n",
      "✅ Verificación exitosa: L * U es igual a A.\n"
     ]
    }
   ],
   "source": [
    "# Matriz de entrada\n",
    "A = [2.0 1.0 -1.0;\n",
    "     -3.0 -1.0 2.0;\n",
    "     -2.0 1.0 2.0]\n",
    "\n",
    "println(\"--- Factorización LU de la Matriz A ---\")\n",
    "println(\"Matriz A:\")\n",
    "display(A)\n",
    "println()\n",
    "\n",
    "# Llamamos a la función\n",
    "resultado = factorizacion_lu_doolittle(A)\n",
    "\n",
    "# Imprimimos los resultados si la factorización fue exitosa\n",
    "if resultado !== nothing\n",
    "    L, U = resultado\n",
    "    \n",
    "    println(\"\\nMatriz L (Triangular Inferior):\")\n",
    "    display(L)\n",
    "    \n",
    "    println(\"\\nMatriz U (Triangular Superior):\")\n",
    "    display(U)\n",
    "    \n",
    "    # Verificación: L * U debe ser igual a A\n",
    "    println(\"\\n--- Verificación: L * U ---\")\n",
    "    A_reconstruida = L * U\n",
    "    display(A_reconstruida)\n",
    "    \n",
    "    # Comprobamos si son aproximadamente iguales\n",
    "    if isapprox(A, A_reconstruida)\n",
    "        println(\"\\n✅ Verificación exitosa: L * U es igual a A.\")\n",
    "    else\n",
    "        println(\"\\n❌ Error: L * U no es igual a A.\")\n",
    "    end\n",
    "end"
   ]
  },
  {
   "cell_type": "code",
   "execution_count": null,
   "id": "b778656a-bcab-4b27-82e2-b06449734928",
   "metadata": {},
   "outputs": [],
   "source": []
  }
 ],
 "metadata": {
  "kernelspec": {
   "display_name": "Julia 1.11.6",
   "language": "julia",
   "name": "julia-1.11"
  },
  "language_info": {
   "file_extension": ".jl",
   "mimetype": "application/julia",
   "name": "julia",
   "version": "1.11.6"
  }
 },
 "nbformat": 4,
 "nbformat_minor": 5
}
